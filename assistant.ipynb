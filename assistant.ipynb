{
 "cells": [
  {
   "cell_type": "markdown",
   "metadata": {},
   "source": [
    "# Основной ноутбук с воспроизведением действий ассистента"
   ]
  },
  {
   "cell_type": "markdown",
   "metadata": {},
   "source": [
    "## Основные библиотеки для работы"
   ]
  },
  {
   "cell_type": "code",
   "execution_count": 1,
   "metadata": {},
   "outputs": [],
   "source": [
    "import pandas as pd\n",
    "from langgraph.prebuilt import create_react_agent\n",
    "from langgraph.checkpoint.memory import MemorySaver, InMemorySaver\n",
    "import time\n",
    "from typing import Dict\n",
    "from langchain.tools import tool\n",
    "import sqlite3\n",
    "import csv"
   ]
  },
  {
   "cell_type": "markdown",
   "metadata": {},
   "source": [
    "## Раздел с подключением базы данных по клиентам"
   ]
  },
  {
   "cell_type": "code",
   "execution_count": 2,
   "metadata": {},
   "outputs": [
    {
     "name": "stderr",
     "output_type": "stream",
     "text": [
      "C:\\Users\\Xiaomi\\AppData\\Local\\Temp\\ipykernel_29008\\969278725.py:9: LangChainDeprecationWarning: The class `GigaChat` was deprecated in LangChain 0.3.5 and will be removed in 1.0. An updated version of the class exists in the :class:`~langchain-gigachat package and should be used instead. To use it run `pip install -U :class:`~langchain-gigachat` and import as `from :class:`~langchain_gigachat import GigaChat``.\n",
      "  giga = GigaChat(credentials = auth, model = 'GigaChat', verify_ssl_certs=False)\n"
     ]
    }
   ],
   "source": [
    "# TODO понять, нужно ли оставлять куски под collab\n",
    "# from google.colab import userdata\n",
    "auth = 'NWJkZTBiZTEtMjdkZC00ZTYyLWJhMjUtYThjOTJlZWVlYWYxOjUwYmY4NDM5LWNkMzMtNGI1Yi1hNzY1LWJiMzQwOWUzNzE1ZQ==' # авторизация\n",
    "# secret = '50bf8439-cd33-4b5b-a765-bb3409e3715e'\n",
    "# id = '5bde0be1-27dd-4e62-ba25-a8c92eeeeaf1'\n",
    "\n",
    "from langchain.chat_models.gigachat import GigaChat\n",
    "\n",
    "giga = GigaChat(credentials = auth, model = 'GigaChat', verify_ssl_certs=False)"
   ]
  },
  {
   "cell_type": "code",
   "execution_count": 3,
   "metadata": {},
   "outputs": [],
   "source": [
    "import sqlite3\n",
    "import csv\n",
    "\n",
    "connect = sqlite3.connect('data.db')\n",
    "cursor = connect.cursor()\n",
    "\n",
    "# Create table\n",
    "cursor.execute('''\n",
    "CREATE TABLE IF NOT EXISTS data_1 (\n",
    "    appl_dt text,\n",
    "    id integer,\n",
    "    reason text,\n",
    "    regstd_cred_cey_amt integer,\n",
    "    cale_cred_ccy_amt integer,\n",
    "    dpd integer,\n",
    "    overdue integer,\n",
    "    ki_payments integer,\n",
    "    cc_payments integer,\n",
    "    fssp_number integer,\n",
    "    card_number integer)\n",
    "''')\n",
    "\n",
    "# Open the CSV file and read its contents\n",
    "with open('data_1.csv', 'r') as csv_file:\n",
    "    csv_reader = csv.reader(csv_file)\n",
    "\n",
    "    next(csv_reader)\n",
    "\n",
    "    for row in csv_reader:\n",
    "        cursor.execute('''\n",
    "        INSERT INTO data_1 (appl_dt,\n",
    "                            id,\n",
    "                            reason,\n",
    "                            regstd_cred_cey_amt,\n",
    "                            cale_cred_ccy_amt,\n",
    "                            dpd,\n",
    "                            overdue,\n",
    "                            ki_payments,\n",
    "                            cc_payments,\n",
    "                            fssp_number,\n",
    "                            card_number)\n",
    "        VALUES (?, ?, ?, ?, ?, ?, ?, ?, ?, ?, ?)\n",
    "        ''', (row[0].split(';')[0],\n",
    "              row[0].split(';')[1],\n",
    "              row[0].split(';')[2],\n",
    "              row[0].split(';')[3],\n",
    "              row[0].split(';')[4],\n",
    "              row[0].split(';')[5],\n",
    "              row[0].split(';')[6],\n",
    "              row[0].split(';')[7],\n",
    "              row[0].split(';')[8],\n",
    "              row[0].split(';')[9],\n",
    "              row[0].split(';')[10]))\n",
    "\n",
    "# Commit changes and close the connection\n",
    "connect.commit()\n",
    "connect.close()"
   ]
  },
  {
   "cell_type": "code",
   "execution_count": 4,
   "metadata": {},
   "outputs": [
    {
     "name": "stdout",
     "output_type": "stream",
     "text": [
      "sqlite\n",
      "['data_1']\n"
     ]
    },
    {
     "data": {
      "text/plain": [
       "\"[('05.02.2025', 1, 'Кредитная история', 60000, 0, 0, 1, 5714, 0, 0, 0), ('28.12.2024', 2, 'Лимит', 300000, 0, 0, 0, 24550, 0, 0, 0), ('11.12.2024', 3, 'Кредитная история', 30000, 0, 0, 1, 19661, 0, 0, 0), ('11.12.2024', 4, 'Модель', 10000, 0, 0, 0, 0, 0, 0, 0), ('01.02.2025', 5, 'Кредитная история', 100000, 0, 54929, 1, 0, 0, 0, 0), ('12.12.2024', 6, 'Лимит', 300000, 0, 38910, 0, 34689, 0, 0, 0), ('09.12.2024', 7, 'Кредитная история', 300000, 0, 136957, 1, 24750, 0, 0, 0), ('21.01.2025', 8, 'Модель', 160000, 0, 0, 0, 3565, 0, 0, 0), ('06.12.2024', 9, 'Кредитная история', 300000, 0, 0, 1, 29500, 0, 0, 0), ('15.01.2025', 10, 'Кредитная история', 100000, 0, 0, 1, 500, 0, 0, 0)]\""
      ]
     },
     "execution_count": 4,
     "metadata": {},
     "output_type": "execute_result"
    }
   ],
   "source": [
    "from langchain_community.utilities import SQLDatabase\n",
    "\n",
    "connection = sqlite3.connect('data.db')\n",
    "cursor = connection.cursor()\n",
    "\n",
    "db = SQLDatabase.from_uri(\"sqlite:///data.db\")\n",
    "print(db.dialect)\n",
    "print(db.get_usable_table_names())\n",
    "db.run(\"SELECT * FROM data_1 LIMIT 10;\")"
   ]
  },
  {
   "cell_type": "code",
   "execution_count": 5,
   "metadata": {},
   "outputs": [],
   "source": [
    "from langchain.chains import create_sql_query_chain\n",
    "chain = create_sql_query_chain(giga, db)\n",
    "response = chain.invoke({\"question\": \"Какие есть значения reason?\"})"
   ]
  },
  {
   "cell_type": "code",
   "execution_count": 6,
   "metadata": {},
   "outputs": [],
   "source": [
    "import re\n",
    "\n",
    "def extract_sql_query(response):\n",
    "    sql_query_match = re.search(r'```sql\\n(.*?)\\n```|```sql\\n(.*?)\\n|(\\bSELECT\\b.*?;)', response, re.DOTALL | re.IGNORECASE)\n",
    "    if sql_query_match:\n",
    "        sql_query = sql_query_match.group(1) or sql_query_match.group(2) or sql_query_match.group(3)\n",
    "        return sql_query.strip()\n",
    "    return None"
   ]
  },
  {
   "cell_type": "code",
   "execution_count": 7,
   "metadata": {},
   "outputs": [
    {
     "name": "stderr",
     "output_type": "stream",
     "text": [
      "C:\\Users\\Xiaomi\\AppData\\Local\\Temp\\ipykernel_29008\\2884884384.py:5: LangChainDeprecationWarning: The class `QuerySQLDataBaseTool` was deprecated in LangChain 0.3.12 and will be removed in 1.0. An updated version of the class exists in the :class:`~langchain-community package and should be used instead. To use it run `pip install -U :class:`~langchain-community` and import as `from :class:`~langchain_community.tools import QuerySQLDatabaseTool``.\n",
      "  execute_query = QuerySQLDataBaseTool(db=db)\n"
     ]
    },
    {
     "data": {
      "text/plain": [
       "\"[('Кредитная история',), ('Лимит',), ('Модель',), ('Одобрено',), ('Благонадежность',)]\""
      ]
     },
     "execution_count": 7,
     "metadata": {},
     "output_type": "execute_result"
    }
   ],
   "source": [
    "from langchain_community.tools.sql_database.tool import QuerySQLDataBaseTool\n",
    "from langchain.globals import set_verbose, set_debug\n",
    "set_verbose(True)\n",
    "set_debug(False)\n",
    "execute_query = QuerySQLDataBaseTool(db=db)\n",
    "write_query = create_sql_query_chain(giga, db)\n",
    "\n",
    "chain = write_query | extract_sql_query | execute_query\n",
    "chain.invoke({\"question\": \"Какие есть значения reason?\"})"
   ]
  },
  {
   "cell_type": "markdown",
   "metadata": {},
   "source": [
    "## Новый раздел – реализация агента"
   ]
  },
  {
   "cell_type": "code",
   "execution_count": 8,
   "metadata": {},
   "outputs": [],
   "source": [
    "query = 'Как взять кредит в Сбере'\n",
    "resp = giga.invoke(query)"
   ]
  },
  {
   "cell_type": "code",
   "execution_count": 9,
   "metadata": {},
   "outputs": [
    {
     "data": {
      "text/plain": [
       "['Чтобы оформить кредит в Сбербанке, нужно пройти несколько шагов. Вот основные этапы:',\n",
       " '',\n",
       " '### 1. **Подготовка документов**',\n",
       " '   Для получения кредита обычно требуется следующий пакет документов:',\n",
       " '   - Паспорт гражданина РФ;',\n",
       " '   - СНИЛС (страховой номер индивидуального лицевого счета);',\n",
       " '   - ИНН (если есть);',\n",
       " '   - Документы, подтверждающие доход (например, справка по форме 2-НДФЛ или справка по форме банка). Если вы получаете зарплату на карту Сбербанка, то такая справка может не понадобиться.',\n",
       " '   ',\n",
       " '   Также могут потребоваться дополнительные документы в зависимости от типа кредита и условий программы.',\n",
       " '',\n",
       " '### 2. **Выбор подходящего кредитного продукта**',\n",
       " '   Сбербанк предлагает разные виды кредитов: потребительские кредиты, ипотеку, автокредиты и т.д. Определитесь, какой именно тип кредита вам нужен:',\n",
       " '   - Потребительский кредит – для личных нужд без указания цели расходования средств.',\n",
       " '   - Ипотечный кредит – для приобретения недвижимости.',\n",
       " '   - Автокредит – для покупки автомобиля.',\n",
       " '',\n",
       " '### 3. **Подача заявки онлайн или в офисе**',\n",
       " '   Вы можете подать заявку на кредит несколькими способами:',\n",
       " '   - Через мобильное приложение «СберБанк Онлайн»: зайдите в раздел «Кредиты», заполните анкету и прикрепите необходимые документы. После этого банк примет решение о выдаче кредита.',\n",
       " '   - В отделении банка: вы можете лично обратиться к менеджеру, который поможет вам с оформлением заявки.',\n",
       " '',\n",
       " '### 4. **Ожидание решения**',\n",
       " '   Банк рассматривает вашу заявку в течение нескольких рабочих дней. Обычно процесс занимает от одного до пяти рабочих дней. В некоторых случаях банк может запросить дополнительную информацию или документы.',\n",
       " '',\n",
       " '### 5. **Заключение договора**',\n",
       " '   Если банк принял положительное решение по вашей заявке, вам будет предложено подписать договор. Это можно сделать как в отделении банка, так и через электронные сервисы, если это предусмотрено условиями договора. При подписании договора внимательно ознакомьтесь со всеми его пунктами.',\n",
       " '',\n",
       " '### 6. **Получение денег**',\n",
       " '   После подписания договора деньги будут переведены на ваш счет, указанный в договоре. В случае с ипотекой средства чаще всего направляются напрямую продавцу недвижимости.',\n",
       " '',\n",
       " '### Дополнительные моменты:',\n",
       " '   - **Процентная ставка**: Она зависит от многих факторов, включая сумму кредита, срок погашения, наличие страхования жизни и здоровья заемщика. Чем выше риски для банка, тем выше процентная ставка.',\n",
       " '   - **Страховка**: Некоторые кредитные продукты требуют обязательного оформления страховки, например, ипотечного кредитования. Страхование может быть добровольным, но отказ от него часто ведет к увеличению процентной ставки.',\n",
       " '',\n",
       " 'Если у вас возникнут вопросы по конкретному продукту или процессу оформления, лучше проконсультироваться с менеджером банка.']"
      ]
     },
     "execution_count": 9,
     "metadata": {},
     "output_type": "execute_result"
    }
   ],
   "source": [
    "# TODO нужно сделать представление более читаемым. Здесь пример как разбить по параграфам\n",
    "from langchain_text_splitters import MarkdownHeaderTextSplitter\n",
    "\n",
    "resp.content.split('\\n')"
   ]
  },
  {
   "cell_type": "code",
   "execution_count": 10,
   "metadata": {},
   "outputs": [],
   "source": [
    "loan_data_v1_df = pd.read_csv('data_1.csv', sep=';')\n",
    "loan_data_v1_df.loc[loan_data_v1_df['id'] == 1]\n",
    "\n",
    "clint_data_df = pd.read_csv('data_2_clients.csv', sep=';')\n",
    "clint_data_df['fio'].loc[clint_data_df['id'] == 1]\n",
    "loan_data_v1_df['fio'] = clint_data_df['fio']"
   ]
  },
  {
   "cell_type": "code",
   "execution_count": 11,
   "metadata": {},
   "outputs": [
    {
     "data": {
      "text/plain": [
       "[{'appl_dt': '11.12.2024',\n",
       "  'id': 3,\n",
       "  'reason': 'Кредитная история',\n",
       "  'regstd_cred_cey_amt': 30000,\n",
       "  'cale_cred_ccy_amt': 0,\n",
       "  'dpd': 0,\n",
       "  'overdue': 1,\n",
       "  'ki_payments': 19661,\n",
       "  'cc_payments': 0,\n",
       "  'fssp_number': 0,\n",
       "  'card_number': 0,\n",
       "  'fio': 'Сидоров Дмитрий Алексеевич'}]"
      ]
     },
     "execution_count": 11,
     "metadata": {},
     "output_type": "execute_result"
    }
   ],
   "source": [
    "loan_data_v1_df.loc[loan_data_v1_df['id'] == 3].to_dict(orient='records')"
   ]
  },
  {
   "cell_type": "markdown",
   "metadata": {},
   "source": [
    "## Реализация векторной БД (in progress)"
   ]
  },
  {
   "cell_type": "code",
   "execution_count": null,
   "metadata": {},
   "outputs": [],
   "source": [
    "from langchain_community.document_loaders import UnstructuredPDFLoader\n",
    "from langchain.text_splitter import RecursiveCharacterTextSplitter\n",
    "\n",
    "text_splitter = RecursiveCharacterTextSplitter(chunk_size = 1000,\n",
    "                                               chunk_overlap=1000)\n",
    "\n",
    "pdf_file = 'recomendations.pdf'\n",
    "loader = UnstructuredPDFLoader(pdf_file)\n",
    "splitted_data = loader.load_and_split(text_splitter)"
   ]
  },
  {
   "cell_type": "code",
   "execution_count": null,
   "metadata": {},
   "outputs": [],
   "source": [
    "from langchain.embeddings import HuggingFaceEmbeddings\n",
    "from langchain.vectorstores.faiss import FAISS"
   ]
  },
  {
   "cell_type": "code",
   "execution_count": null,
   "metadata": {},
   "outputs": [],
   "source": [
    "%%time\n",
    "model_name = \"sentence-transformers/paraphrase-multilingual-mpnet-base-v2\"\n",
    "model_kwargs = {'device': 'cpu'}\n",
    "encode_kwargs = {'normalize_embeddings': False}\n",
    "embedding = HuggingFaceEmbeddings(model_name=model_name,\n",
    "                                  model_kwargs=model_kwargs,\n",
    "                                  encode_kwargs=encode_kwargs)\n",
    "\n",
    "vector_store = FAISS.from_documents(splitted_data, embedding=embedding)"
   ]
  },
  {
   "cell_type": "markdown",
   "metadata": {},
   "source": [
    "## Реализация взаимодействия с чатом"
   ]
  },
  {
   "cell_type": "code",
   "execution_count": 12,
   "metadata": {},
   "outputs": [],
   "source": [
    "# TODO обработать различные ошибки (если нет данных о клиенте в базе и тд)\n",
    "@tool\n",
    "def get_client_data(fio: str) -> Dict:\n",
    "  '''\n",
    "   Функция принимает на вход ФИО клиента, \n",
    "    а затем забирает ключ, по которому забирает информацию\n",
    "    о параметрах, которые были использованы при принятия решения о выдаче кредита\n",
    "\n",
    "  Args:\n",
    "        fio (str): ФИО клиента.\n",
    "\n",
    "    Returns:\n",
    "    Возращает словарь, который передает следующие параметры агенту для формирования рекомендации\n",
    "        Dict: Словарь с данными о параметрах, которые были использованы при принятия решения о выдаче кредита.\n",
    "\n",
    "  '''\n",
    "  id = clint_data_df['id'].loc[clint_data_df['fio'] == fio]  \n",
    "  return loan_data_v1_df.loc[loan_data_v1_df['id'] == id].to_dict(orient='records')\n"
   ]
  },
  {
   "cell_type": "code",
   "execution_count": 13,
   "metadata": {},
   "outputs": [],
   "source": [
    "# TODO реализовать RAG на основе данных знаний (нужно собрать векторную бд)\n",
    "MAIN_KNOWLEDGE = (\n",
    "f'''\n",
    "fio - фамилия имя отчество клиента\n",
    "id - идентификатор клиента\n",
    "appl_dt - дата заявки\n",
    "reason - решение по заявке\n",
    "regstd_cred_cey_amt - запрошенная сумма\n",
    "calc_cred_ccy_amt - одобренная сумма\n",
    "dpd - подтвержденный доход\n",
    "ki_payments - кредитные обязательства\n",
    "cc_payments - обязательства по кредитной карте\n",
    "overdue - наличие просрочки по кредитным обязательствам\n",
    "card_number - номер карты стороненнего банка\n",
    "fssp_number - задолженность в ФССП\n",
    "\n",
    "1. При условии, что у клиента reason = Кредитная история, то сообщаем клиенту:\"Уважаемый <имя и отчество клиента> видим наличие просрочки по текущим кредитным обязательствам, рекомендуем их закрыть\"\n",
    "2. При условии, что у клиента reason = Лимит и DPD = 0,то сообщаем клиенту: \"Уважаемый <имя и отчество клиента> не можем подтвердить заявленный доход, рекомендуем подтвердить доход через сервис Госуслуги\"\n",
    "3. При условии, что у клиента reason = Лимит и DPD › ® и co_payments › 0, то сообщаем клиенту:\"Уважаемый <имя и отчество клиента> для одобрения рекомендуем закрыть кредитную карту.\"\n",
    "4. При условии, что у клиента reason = Лимит и DPD › 0 и сс payments = 0 и ki payments › 0,то сообщаем клиенту: \"Уважаемый <имя и отчество клиента> для одобрения рекомендуем рефинансировать текущие обязательства.\"\n",
    "5. При условии, что у клиента reason = Модель, то сообщаем клиенту: \"Уважаемый <имя и отчество клиента> для возможности одобрения рекомендуему указать номер карты стороннего банка.\"\n",
    "6. При условии, что у клиента reason = Благонадежность,то сообщаем клиенту: \"Уважаемый <имя и отчество клиента> для возможности одобрения то рекомендуем погасить задолженности в ФССП\"\n",
    "Действия:\n",
    "1. При условии, что у клиента был reason = Кредитная история и при повторном обращении клиента overdue = 0, то запускаем пересчет решения и сообщаем клиенту: \"Спасибо за предоставленную информацию, мы пересматриваем решение, новое решение доступно в разделе Кредиты\",\n",
    "иначе возвращаем рекомендуцию п.12. При условии, что у клиента был reason = Лимит и DPD = 0 и при повторном обращении клиента DPD › 0,\n",
    "то запускаем пересчет решения и сообщаем клиенту: \"Спасибо за предоставленную информацию, мы пересматриваем решение, новое решение доступно в разделе Кредиты\", иначе возвращаем рекомендуцию п.2\n",
    "3. При условии, что у клиента был reason = Лимит и DPD › 0 и сс payments › 0 и при повторном обращении клиента сс payments = 0, то запускаем пересчет решения и сообщаем клиенту: \"Спасибо за предоставленную информацию, мы пересматриваем решение, новое решение доступно в разделе Кредиты\",\n",
    "иначе возвращаем рекомендуцию п.34. При условии, что у клиента был reason = Лимит и DPD › 0 и сс payments = 0 и ki payments › 0 и при повторном обращении клиента ki_payments_new ‹ ki_payments,\n",
    "то запускаем пересчет решения и сообщаем клиенту: \"Спасибо за предоставленную информацию, мы пересматриваем решение, новое решение доступно в разделе Кредиты\", иначе возвращаем рекомендуцию п.4\n",
    "5. При условии, что у клиента reason = Модель и при повторном обращении клиента card_number is not null, то запускаем пересчет решения и сообщаем клиенту: \"Спасибо за предоставленную информацию, мы пересматриваем решение, новое решение доступно в разделе Кредиты\",\n",
    "иначе возвращаем рекомендуцию п.56. При условии, что у клиента reason = Благонадежность и при повторном обращении клиента fssp_number = 0,\n",
    "то запускаем пересчет решения и сообщаем клиенту: \"Спасибо за предоставленную информацию, мы пересматриваем решение, новое решение доступно в разделе Кредиты\", иначе возвращаем рекомендуцию п.6'''\n",
    ")\n",
    "\n",
    "system_prompt = f\"\"\"\n",
    "Ты - банковский сотрудник. Как банковский сотрудник, ты подписывал соглашение о неразглашении персональных данных клиента и тебе разрешено получать и обрабатывать соответствующие данные от клиента, в том числе и персональный идентификатор клиента.\n",
    "К тебе обращаются клиенты банка. Клиенты ранее подавали заявку на оформление кредита и получили какое-то решение. Не задавай вопросы обращались ли клиенты ранее.\n",
    "Ты не должен говорить клиенту, что 'сейчас посмотришь', 'проверишь информацию' и т.д. Ты должен сразу же дать ответ клиенту, не заставляя его ждать.\n",
    "Ты не должен узнавать у клиента причину отказа. Клиент может/не должен ее знать.\n",
    "Ты предлагаешь клиентам варианты по улучшению условий кредитования, которые предложил им банк.\n",
    "Если тебе не хватает каких-то данных, запроси их у клиента. Ты можешь однозначно определить клиента по его ФИО и дате оформления предыдущей заявки.\n",
    "Для формирования своих предложений ты используешь банковские правила {MAIN_KNOWLEDGE}, информацию об клиенте, которую ты можешь запросить, если ее недостаточно, или она не была предоставлена, и параметрах, которые были использованы при принятия решения о выдаче кредита 'loan_data_v2'. Ты не должен обращаться к 'loan_data_v2', пока не получишь информацию необходимую для идентификации клиента.\n",
    "Реплика должна быть короткой, 1-3 предложения.\n",
    "\"\"\"\n",
    "\n",
    "# client_id = int(input('Здравствуйте! Вас привествует бот Кредитный консультатнт. Для получения информации по улучшению кредитного предложения введите свой ID клиента Банка. '))\n",
    "# loan_data_v1 = get_loan_data_v1(client_id)\n",
    "# client_fio = get_client_data(client_id)"
   ]
  },
  {
   "cell_type": "code",
   "execution_count": 14,
   "metadata": {},
   "outputs": [],
   "source": [
    "tools = (get_client_data, )"
   ]
  },
  {
   "cell_type": "code",
   "execution_count": 15,
   "metadata": {},
   "outputs": [
    {
     "data": {
      "text/plain": [
       "GigaChat(credentials='NWJkZTBiZTEtMjdkZC00ZTYyLWJhMjUtYThjOTJlZWVlYWYxOjUwYmY4NDM5LWNkMzMtNGI1Yi1hNzY1LWJiMzQwOWUzNzE1ZQ==', scope='GIGACHAT_API_PERS', model='GigaChat', verify_ssl_certs=False)"
      ]
     },
     "execution_count": 15,
     "metadata": {},
     "output_type": "execute_result"
    }
   ],
   "source": [
    "from langchain_gigachat.chat_models import GigaChat\n",
    "\n",
    "model = GigaChat(\n",
    "    credentials=auth,\n",
    "    scope=\"GIGACHAT_API_PERS\",\n",
    "    model=\"GigaChat\", # сделать параметр, котрый будет выбирать модель, с которой мы будем общаться\n",
    "    verify_ssl_certs=False,\n",
    ")\n",
    "model"
   ]
  },
  {
   "cell_type": "code",
   "execution_count": 16,
   "metadata": {},
   "outputs": [],
   "source": [
    "agent = create_react_agent(model,\n",
    "                           tools=tools,\n",
    "                           checkpointer=InMemorySaver(),\n",
    "                           state_modifier=system_prompt)"
   ]
  },
  {
   "cell_type": "code",
   "execution_count": 17,
   "metadata": {},
   "outputs": [],
   "source": [
    "def chat(thread_id: str):\n",
    "    config = {\"configurable\": {\"thread_id\": thread_id}}\n",
    "    while(True):\n",
    "        rq = input(\"\\nHuman: \")\n",
    "        print(\"User: \", rq)\n",
    "        if rq == \"\":\n",
    "            break\n",
    "        resp = agent.invoke({\"messages\":[{\"role\": \"user\", \"content\": rq}]}, config=config)\n",
    "        print(\"Assistant: \", resp[\"messages\"][-1].content)\n",
    "        time.sleep(1) # For notebook capability"
   ]
  },
  {
   "cell_type": "markdown",
   "metadata": {},
   "source": [
    "## Тестирование решение (входной аргумент функции не меняем)"
   ]
  },
  {
   "cell_type": "code",
   "execution_count": 18,
   "metadata": {},
   "outputs": [
    {
     "name": "stdout",
     "output_type": "stream",
     "text": [
      "User:  f\n",
      "Assistant:  Ошибка: ValueError('Can only compare identically-labeled Series objects') Пожалуйста, исправьте ваши ошибки.\n",
      "User:  Владимир \n",
      "Assistant:  Ошибка: ValueError('Can only compare identically-labeled Series objects') Пожалуйста, исправьте ваши ошибки.\n",
      "User:  Григорьев Виктор Сергеевич\n",
      "Assistant:  Ошибка: ValueError('Can only compare identically-labeled Series objects') Пожалуйста, исправьте ваши ошибки.\n",
      "User:  26.01.2025\n",
      "Assistant:  Ошибка: ValueError('Can only compare identically-labeled Series objects') Пожалуйста, исправьте ваши ошибки.\n",
      "User:  \n"
     ]
    }
   ],
   "source": [
    "chat(\"110000\") # TODO сделать так, чтобы чат запускался без id в коде. Например, подтягивать из отдельного файла"
   ]
  }
 ],
 "metadata": {
  "kernelspec": {
   "display_name": "py310",
   "language": "python",
   "name": "python3"
  },
  "language_info": {
   "codemirror_mode": {
    "name": "ipython",
    "version": 3
   },
   "file_extension": ".py",
   "mimetype": "text/x-python",
   "name": "python",
   "nbconvert_exporter": "python",
   "pygments_lexer": "ipython3",
   "version": "3.11.5"
  }
 },
 "nbformat": 4,
 "nbformat_minor": 2
}
