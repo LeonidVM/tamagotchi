{
  "nbformat": 4,
  "nbformat_minor": 0,
  "metadata": {
    "colab": {
      "provenance": [],
      "authorship_tag": "ABX9TyPIe0axC1aKProIiQa62Lgn",
      "include_colab_link": true
    },
    "kernelspec": {
      "name": "python3",
      "display_name": "Python 3"
    },
    "language_info": {
      "name": "python"
    }
  },
  "cells": [
    {
      "cell_type": "markdown",
      "metadata": {
        "id": "view-in-github",
        "colab_type": "text"
      },
      "source": [
        "<a href=\"https://colab.research.google.com/github/LeonidVM/tamagotchi/blob/main/connect_to_gigaChat.ipynb\" target=\"_parent\"><img src=\"https://colab.research.google.com/assets/colab-badge.svg\" alt=\"Open In Colab\"/></a>"
      ]
    },
    {
      "cell_type": "code",
      "execution_count": null,
      "metadata": {
        "id": "CuJqdOMKUowp"
      },
      "outputs": [],
      "source": [
        "NWJkZTBiZTEtMjdkZC00ZTYyLWJhMjUtYThjOTJlZWVlYWYxOjNhNzYwNTg1LTMxODAtNGVkOS04ZDJiLTg1Yzk1NmYyYzM5Nw=="
      ]
    },
    {
      "cell_type": "code",
      "source": [
        "!pip install gigachain faiss-cpu sentence-transformers rank-bm25 playwright --quiet"
      ],
      "metadata": {
        "colab": {
          "base_uri": "https://localhost:8080/"
        },
        "id": "2vLUOaazZ2bc",
        "outputId": "982d125d-df52-4e7d-b98d-a7e51e3d7328"
      },
      "execution_count": 3,
      "outputs": [
        {
          "output_type": "stream",
          "name": "stdout",
          "text": [
            "\u001b[2K   \u001b[90m━━━━━━━━━━━━━━━━━━━━━━━━━━━━━━━━━━━━━━━━\u001b[0m \u001b[32m30.7/30.7 MB\u001b[0m \u001b[31m35.5 MB/s\u001b[0m eta \u001b[36m0:00:00\u001b[0m\n",
            "\u001b[2K   \u001b[90m━━━━━━━━━━━━━━━━━━━━━━━━━━━━━━━━━━━━━━━━\u001b[0m \u001b[32m45.1/45.1 MB\u001b[0m \u001b[31m17.4 MB/s\u001b[0m eta \u001b[36m0:00:00\u001b[0m\n",
            "\u001b[2K   \u001b[90m━━━━━━━━━━━━━━━━━━━━━━━━━━━━━━━━━━━━━━━━\u001b[0m \u001b[32m363.4/363.4 MB\u001b[0m \u001b[31m1.4 MB/s\u001b[0m eta \u001b[36m0:00:00\u001b[0m\n",
            "\u001b[2K   \u001b[90m━━━━━━━━━━━━━━━━━━━━━━━━━━━━━━━━━━━━━━━━\u001b[0m \u001b[32m13.8/13.8 MB\u001b[0m \u001b[31m23.9 MB/s\u001b[0m eta \u001b[36m0:00:00\u001b[0m\n",
            "\u001b[2K   \u001b[90m━━━━━━━━━━━━━━━━━━━━━━━━━━━━━━━━━━━━━━━━\u001b[0m \u001b[32m24.6/24.6 MB\u001b[0m \u001b[31m15.2 MB/s\u001b[0m eta \u001b[36m0:00:00\u001b[0m\n",
            "\u001b[2K   \u001b[90m━━━━━━━━━━━━━━━━━━━━━━━━━━━━━━━━━━━━━━━━\u001b[0m \u001b[32m883.7/883.7 kB\u001b[0m \u001b[31m33.8 MB/s\u001b[0m eta \u001b[36m0:00:00\u001b[0m\n",
            "\u001b[2K   \u001b[90m━━━━━━━━━━━━━━━━━━━━━━━━━━━━━━━━━━━━━━━━\u001b[0m \u001b[32m664.8/664.8 MB\u001b[0m \u001b[31m822.3 kB/s\u001b[0m eta \u001b[36m0:00:00\u001b[0m\n",
            "\u001b[2K   \u001b[90m━━━━━━━━━━━━━━━━━━━━━━━━━━━━━━━━━━━━━━━━\u001b[0m \u001b[32m211.5/211.5 MB\u001b[0m \u001b[31m5.6 MB/s\u001b[0m eta \u001b[36m0:00:00\u001b[0m\n",
            "\u001b[2K   \u001b[90m━━━━━━━━━━━━━━━━━━━━━━━━━━━━━━━━━━━━━━━━\u001b[0m \u001b[32m56.3/56.3 MB\u001b[0m \u001b[31m12.2 MB/s\u001b[0m eta \u001b[36m0:00:00\u001b[0m\n",
            "\u001b[2K   \u001b[90m━━━━━━━━━━━━━━━━━━━━━━━━━━━━━━━━━━━━━━━━\u001b[0m \u001b[32m127.9/127.9 MB\u001b[0m \u001b[31m7.4 MB/s\u001b[0m eta \u001b[36m0:00:00\u001b[0m\n",
            "\u001b[2K   \u001b[90m━━━━━━━━━━━━━━━━━━━━━━━━━━━━━━━━━━━━━━━━\u001b[0m \u001b[32m207.5/207.5 MB\u001b[0m \u001b[31m6.7 MB/s\u001b[0m eta \u001b[36m0:00:00\u001b[0m\n",
            "\u001b[2K   \u001b[90m━━━━━━━━━━━━━━━━━━━━━━━━━━━━━━━━━━━━━━━━\u001b[0m \u001b[32m21.1/21.1 MB\u001b[0m \u001b[31m79.7 MB/s\u001b[0m eta \u001b[36m0:00:00\u001b[0m\n",
            "\u001b[?25h"
          ]
        }
      ]
    },
    {
      "cell_type": "code",
      "source": [
        "from google.colab import userdata\n",
        "auth = userdata.get('sber_auth')\n",
        "secret = userdata.get('secret')\n",
        "id = userdata.get('id')"
      ],
      "metadata": {
        "id": "Basx5xbyZ2d0"
      },
      "execution_count": 9,
      "outputs": []
    },
    {
      "cell_type": "code",
      "source": [
        "import base64\n",
        "credentials = f\"{id}:{secret}\"\n",
        "encoded_credentials = base64.b64encode(credentials.encode('utf-8')).decode('utf-8')"
      ],
      "metadata": {
        "id": "TufMMzPoZ2gk"
      },
      "execution_count": 10,
      "outputs": []
    },
    {
      "cell_type": "code",
      "source": [
        "encoded_credentials == auth"
      ],
      "metadata": {
        "colab": {
          "base_uri": "https://localhost:8080/"
        },
        "id": "1XWllHTnZW_H",
        "outputId": "485706f6-fcb2-4c0d-be54-01048c6802b3"
      },
      "execution_count": 11,
      "outputs": [
        {
          "output_type": "execute_result",
          "data": {
            "text/plain": [
              "True"
            ]
          },
          "metadata": {},
          "execution_count": 11
        }
      ]
    },
    {
      "cell_type": "code",
      "source": [
        "from langchain.chat_models.gigachat import GigaChat"
      ],
      "metadata": {
        "id": "TxC2h32uZXBf"
      },
      "execution_count": 12,
      "outputs": []
    },
    {
      "cell_type": "code",
      "source": [
        "giga = GigaChat(credentials = auth, model = 'GigaChat', verify_ssl_certs=False)"
      ],
      "metadata": {
        "id": "G6avYUeqZXDm"
      },
      "execution_count": 18,
      "outputs": []
    },
    {
      "cell_type": "code",
      "source": [
        "query = 'Как взять кредит в Сбере'\n",
        "giga.invoke(query)"
      ],
      "metadata": {
        "colab": {
          "base_uri": "https://localhost:8080/"
        },
        "id": "Kn3SIvcaupAb",
        "outputId": "89c764eb-a997-45f3-c4ec-60172b57287f"
      },
      "execution_count": 22,
      "outputs": [
        {
          "output_type": "execute_result",
          "data": {
            "text/plain": [
              "AIMessage(content='Чтобы оформить кредит в Сбербанке, нужно пройти несколько шагов. Вот основные этапы этого процесса:\\n\\n### 1. **Выбор кредитного продукта**\\n   Прежде чем брать кредит, важно определиться с его типом и условиями. В Сбербанке есть разные виды кредитов: потребительские, ипотечные, автокредиты, кредитные карты и т.д. У каждого вида свои условия по процентной ставке, срокам погашения и суммам займа. Вы можете воспользоваться калькулятором на сайте банка для примерного расчета ежемесячных платежей и общей суммы переплаты.\\n\\n### 2. **Подготовка документов**\\n   Для оформления кредита потребуется предоставить определенные документы. Обычно это:\\n   - Паспорт гражданина РФ;\\n   - ИНН (идентификационный номер налогоплательщика);\\n   - СНИЛС (страховой номер индивидуального лицевого счета);\\n   - Справка о доходах (чаще всего используется форма 2-НДФЛ или справка по форме банка). Если у вас нет официального места работы, можно использовать другие формы подтверждения доходов, например, выписку со счета, договор аренды недвижимости и т.п.;\\n   - Копия трудового договора или трудовая книжка, если требуется подтвердить стаж работы.\\n   \\n   Также могут потребоваться дополнительные документы в зависимости от типа кредита. Например, при оформлении ипотеки нужны будут документы на недвижимость.\\n\\n### 3. **Подача заявки**\\n   Есть несколько способов подать заявку на кредит:\\n   - **Через мобильное приложение Сбербанк Онлайн**. Это самый удобный способ. В приложении вам будет предложено заполнить анкету, указав необходимые данные. Заявка может быть рассмотрена моментально.\\n   - **В отделении банка**. Можно обратиться в любое отделение Сбербанка, где менеджер поможет вам заполнить все необходимые бумаги.\\n   - **На официальном сайте Сбербанка**. На сайте также доступна онлайн-заявка, которую затем можно дооформить в отделении.\\n\\n### 4. **Ожидание решения**\\n   После подачи заявки банк проверяет вашу кредитную историю и финансовое состояние. Решение может занять от нескольких минут до нескольких дней в зависимости от выбранного способа подачи заявки и суммы кредита.\\n\\n### 5. **Заключение договора**\\n   Если ваша заявка одобрена, следующим шагом будет подписание кредитного договора. Договор содержит всю необходимую информацию о вашем кредите: сумму, срок, процентную ставку, график платежей и возможные комиссии. Важно внимательно ознакомиться с договором перед его подписанием.\\n\\n### 6. **Получение средств**\\n   После заключения договора деньги могут быть переведены на ваш счет или карту. Сумма может поступить как сразу после подписания договора, так и через некоторое время (например, в случае ипотечного кредита).\\n\\n### 7. **Погашение кредита**\\n   Каждый месяц вам необходимо вносить платежи согласно графику. Варианты оплаты могут быть разными:\\n   - Через банкоматы и терминалы Сбербанка;\\n   - В отделениях банка;\\n   - Посредством перевода с другого вашего счета или карты через Сбербанк Онлайн;\\n   - Автоматическое списание с зарплатной карты (если она привязана к кредиту).\\n\\n---\\n\\nЭто общий порядок действий, но конкретный процесс может немного отличаться в зависимости от условий выбранного кредитного продукта.', response_metadata={'token_usage': Usage(prompt_tokens=17, completion_tokens=769, total_tokens=786), 'model_name': 'GigaChat:1.0.26.20', 'finish_reason': 'stop'}, id='run-6df21558-3213-4f6f-a928-413a01de810f-0')"
            ]
          },
          "metadata": {},
          "execution_count": 22
        }
      ]
    },
    {
      "cell_type": "code",
      "source": [],
      "metadata": {
        "id": "32Pv2lpkupCy"
      },
      "execution_count": null,
      "outputs": []
    },
    {
      "cell_type": "code",
      "source": [],
      "metadata": {
        "id": "cO6M24k1uCH0"
      },
      "execution_count": null,
      "outputs": []
    },
    {
      "cell_type": "code",
      "source": [],
      "metadata": {
        "id": "o4oyh_aFuCKF"
      },
      "execution_count": null,
      "outputs": []
    }
  ]
}