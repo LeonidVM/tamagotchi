{
  "nbformat": 4,
  "nbformat_minor": 0,
  "metadata": {
    "colab": {
      "provenance": [],
      "authorship_tag": "ABX9TyPcOf6bE0AQd5K7N9rvng5x",
      "include_colab_link": true
    },
    "kernelspec": {
      "name": "python3",
      "display_name": "Python 3"
    },
    "language_info": {
      "name": "python"
    }
  },
  "cells": [
    {
      "cell_type": "markdown",
      "metadata": {
        "id": "view-in-github",
        "colab_type": "text"
      },
      "source": [
        "<a href=\"https://colab.research.google.com/github/LeonidVM/tamagotchi/blob/main/connect_to_bd.ipynb\" target=\"_parent\"><img src=\"https://colab.research.google.com/assets/colab-badge.svg\" alt=\"Open In Colab\"/></a>"
      ]
    },
    {
      "cell_type": "code",
      "source": [
        "!pip install gigachain faiss-cpu sentence-transformers unstructured[all-docs] rank-bm25 playwright --quiet"
      ],
      "metadata": {
        "colab": {
          "base_uri": "https://localhost:8080/"
        },
        "collapsed": true,
        "id": "XKmd3ldCujtt",
        "outputId": "9a39bb75-6ea2-47dd-a906-b7aa743b2722"
      },
      "execution_count": 11,
      "outputs": [
        {
          "output_type": "stream",
          "name": "stdout",
          "text": [
            "\u001b[?25l     \u001b[90m━━━━━━━━━━━━━━━━━━━━━━━━━━━━━━━━━━━━━━━━\u001b[0m \u001b[32m0.0/981.5 kB\u001b[0m \u001b[31m?\u001b[0m eta \u001b[36m-:--:--\u001b[0m\r\u001b[2K     \u001b[91m━━━━━━━━━━━━━━━━━\u001b[0m\u001b[91m╸\u001b[0m\u001b[90m━━━━━━━━━━━━━━━━━━━━━━\u001b[0m \u001b[32m430.1/981.5 kB\u001b[0m \u001b[31m13.0 MB/s\u001b[0m eta \u001b[36m0:00:01\u001b[0m\r\u001b[2K     \u001b[90m━━━━━━━━━━━━━━━━━━━━━━━━━━━━━━━━━━━━━━━━\u001b[0m \u001b[32m981.5/981.5 kB\u001b[0m \u001b[31m15.3 MB/s\u001b[0m eta \u001b[36m0:00:00\u001b[0m\n",
            "\u001b[?25h  Preparing metadata (setup.py) ... \u001b[?25l\u001b[?25hdone\n",
            "\u001b[2K     \u001b[90m━━━━━━━━━━━━━━━━━━━━━━━━━━━━━━━━━━━━━━━━\u001b[0m \u001b[32m48.2/48.2 kB\u001b[0m \u001b[31m3.1 MB/s\u001b[0m eta \u001b[36m0:00:00\u001b[0m\n",
            "\u001b[2K     \u001b[90m━━━━━━━━━━━━━━━━━━━━━━━━━━━━━━━━━━━━━━━━\u001b[0m \u001b[32m117.0/117.0 kB\u001b[0m \u001b[31m8.5 MB/s\u001b[0m eta \u001b[36m0:00:00\u001b[0m\n",
            "\u001b[?25h  Preparing metadata (setup.py) ... \u001b[?25l\u001b[?25hdone\n",
            "\u001b[2K   \u001b[90m━━━━━━━━━━━━━━━━━━━━━━━━━━━━━━━━━━━━━━━━\u001b[0m \u001b[32m1.0/1.0 MB\u001b[0m \u001b[31m36.8 MB/s\u001b[0m eta \u001b[36m0:00:00\u001b[0m\n",
            "\u001b[2K   \u001b[90m━━━━━━━━━━━━━━━━━━━━━━━━━━━━━━━━━━━━━━━━\u001b[0m \u001b[32m30.7/30.7 MB\u001b[0m \u001b[31m48.2 MB/s\u001b[0m eta \u001b[36m0:00:00\u001b[0m\n",
            "\u001b[2K   \u001b[90m━━━━━━━━━━━━━━━━━━━━━━━━━━━━━━━━━━━━━━━━\u001b[0m \u001b[32m45.1/45.1 MB\u001b[0m \u001b[31m19.6 MB/s\u001b[0m eta \u001b[36m0:00:00\u001b[0m\n",
            "\u001b[2K   \u001b[90m━━━━━━━━━━━━━━━━━━━━━━━━━━━━━━━━━━━━━━━━\u001b[0m \u001b[32m403.7/403.7 kB\u001b[0m \u001b[31m26.1 MB/s\u001b[0m eta \u001b[36m0:00:00\u001b[0m\n",
            "\u001b[2K   \u001b[90m━━━━━━━━━━━━━━━━━━━━━━━━━━━━━━━━━━━━━━━━\u001b[0m \u001b[32m63.0/63.0 kB\u001b[0m \u001b[31m4.6 MB/s\u001b[0m eta \u001b[36m0:00:00\u001b[0m\n",
            "\u001b[2K   \u001b[90m━━━━━━━━━━━━━━━━━━━━━━━━━━━━━━━━━━━━━━━━\u001b[0m \u001b[32m311.8/311.8 kB\u001b[0m \u001b[31m20.4 MB/s\u001b[0m eta \u001b[36m0:00:00\u001b[0m\n",
            "\u001b[2K   \u001b[90m━━━━━━━━━━━━━━━━━━━━━━━━━━━━━━━━━━━━━━━━\u001b[0m \u001b[32m244.3/244.3 kB\u001b[0m \u001b[31m15.9 MB/s\u001b[0m eta \u001b[36m0:00:00\u001b[0m\n",
            "\u001b[2K   \u001b[90m━━━━━━━━━━━━━━━━━━━━━━━━━━━━━━━━━━━━━━━━\u001b[0m \u001b[32m472.8/472.8 kB\u001b[0m \u001b[31m26.9 MB/s\u001b[0m eta \u001b[36m0:00:00\u001b[0m\n",
            "\u001b[2K   \u001b[90m━━━━━━━━━━━━━━━━━━━━━━━━━━━━━━━━━━━━━━━━\u001b[0m \u001b[32m363.4/363.4 MB\u001b[0m \u001b[31m4.5 MB/s\u001b[0m eta \u001b[36m0:00:00\u001b[0m\n",
            "\u001b[2K   \u001b[90m━━━━━━━━━━━━━━━━━━━━━━━━━━━━━━━━━━━━━━━━\u001b[0m \u001b[32m13.8/13.8 MB\u001b[0m \u001b[31m94.8 MB/s\u001b[0m eta \u001b[36m0:00:00\u001b[0m\n",
            "\u001b[2K   \u001b[90m━━━━━━━━━━━━━━━━━━━━━━━━━━━━━━━━━━━━━━━━\u001b[0m \u001b[32m24.6/24.6 MB\u001b[0m \u001b[31m74.5 MB/s\u001b[0m eta \u001b[36m0:00:00\u001b[0m\n",
            "\u001b[2K   \u001b[90m━━━━━━━━━━━━━━━━━━━━━━━━━━━━━━━━━━━━━━━━\u001b[0m \u001b[32m883.7/883.7 kB\u001b[0m \u001b[31m44.4 MB/s\u001b[0m eta \u001b[36m0:00:00\u001b[0m\n",
            "\u001b[2K   \u001b[90m━━━━━━━━━━━━━━━━━━━━━━━━━━━━━━━━━━━━━━━━\u001b[0m \u001b[32m664.8/664.8 MB\u001b[0m \u001b[31m1.8 MB/s\u001b[0m eta \u001b[36m0:00:00\u001b[0m\n",
            "\u001b[2K   \u001b[90m━━━━━━━━━━━━━━━━━━━━━━━━━━━━━━━━━━━━━━━━\u001b[0m \u001b[32m211.5/211.5 MB\u001b[0m \u001b[31m5.9 MB/s\u001b[0m eta \u001b[36m0:00:00\u001b[0m\n",
            "\u001b[2K   \u001b[90m━━━━━━━━━━━━━━━━━━━━━━━━━━━━━━━━━━━━━━━━\u001b[0m \u001b[32m56.3/56.3 MB\u001b[0m \u001b[31m11.6 MB/s\u001b[0m eta \u001b[36m0:00:00\u001b[0m\n",
            "\u001b[2K   \u001b[90m━━━━━━━━━━━━━━━━━━━━━━━━━━━━━━━━━━━━━━━━\u001b[0m \u001b[32m127.9/127.9 MB\u001b[0m \u001b[31m7.5 MB/s\u001b[0m eta \u001b[36m0:00:00\u001b[0m\n",
            "\u001b[2K   \u001b[90m━━━━━━━━━━━━━━━━━━━━━━━━━━━━━━━━━━━━━━━━\u001b[0m \u001b[32m207.5/207.5 MB\u001b[0m \u001b[31m5.8 MB/s\u001b[0m eta \u001b[36m0:00:00\u001b[0m\n",
            "\u001b[2K   \u001b[90m━━━━━━━━━━━━━━━━━━━━━━━━━━━━━━━━━━━━━━━━\u001b[0m \u001b[32m21.1/21.1 MB\u001b[0m \u001b[31m56.0 MB/s\u001b[0m eta \u001b[36m0:00:00\u001b[0m\n",
            "\u001b[2K   \u001b[90m━━━━━━━━━━━━━━━━━━━━━━━━━━━━━━━━━━━━━━━━\u001b[0m \u001b[32m48.8/48.8 kB\u001b[0m \u001b[31m3.4 MB/s\u001b[0m eta \u001b[36m0:00:00\u001b[0m\n",
            "\u001b[2K   \u001b[90m━━━━━━━━━━━━━━━━━━━━━━━━━━━━━━━━━━━━━━━━\u001b[0m \u001b[32m5.6/5.6 MB\u001b[0m \u001b[31m70.2 MB/s\u001b[0m eta \u001b[36m0:00:00\u001b[0m\n",
            "\u001b[2K   \u001b[90m━━━━━━━━━━━━━━━━━━━━━━━━━━━━━━━━━━━━━━━━\u001b[0m \u001b[32m112.5/112.5 kB\u001b[0m \u001b[31m8.5 MB/s\u001b[0m eta \u001b[36m0:00:00\u001b[0m\n",
            "\u001b[2K   \u001b[90m━━━━━━━━━━━━━━━━━━━━━━━━━━━━━━━━━━━━━━━━\u001b[0m \u001b[32m590.6/590.6 kB\u001b[0m \u001b[31m26.2 MB/s\u001b[0m eta \u001b[36m0:00:00\u001b[0m\n",
            "\u001b[2K   \u001b[90m━━━━━━━━━━━━━━━━━━━━━━━━━━━━━━━━━━━━━━━━\u001b[0m \u001b[32m523.4/523.4 kB\u001b[0m \u001b[31m21.1 MB/s\u001b[0m eta \u001b[36m0:00:00\u001b[0m\n",
            "\u001b[2K   \u001b[90m━━━━━━━━━━━━━━━━━━━━━━━━━━━━━━━━━━━━━━━━\u001b[0m \u001b[32m16.0/16.0 MB\u001b[0m \u001b[31m62.6 MB/s\u001b[0m eta \u001b[36m0:00:00\u001b[0m\n",
            "\u001b[2K   \u001b[90m━━━━━━━━━━━━━━━━━━━━━━━━━━━━━━━━━━━━━━━━\u001b[0m \u001b[32m1.2/1.2 MB\u001b[0m \u001b[31m40.5 MB/s\u001b[0m eta \u001b[36m0:00:00\u001b[0m\n",
            "\u001b[2K   \u001b[90m━━━━━━━━━━━━━━━━━━━━━━━━━━━━━━━━━━━━━━━━\u001b[0m \u001b[32m2.4/2.4 MB\u001b[0m \u001b[31m58.2 MB/s\u001b[0m eta \u001b[36m0:00:00\u001b[0m\n",
            "\u001b[2K   \u001b[90m━━━━━━━━━━━━━━━━━━━━━━━━━━━━━━━━━━━━━━━━\u001b[0m \u001b[32m300.7/300.7 kB\u001b[0m \u001b[31m17.7 MB/s\u001b[0m eta \u001b[36m0:00:00\u001b[0m\n",
            "\u001b[2K   \u001b[90m━━━━━━━━━━━━━━━━━━━━━━━━━━━━━━━━━━━━━━━━\u001b[0m \u001b[32m167.6/167.6 kB\u001b[0m \u001b[31m10.7 MB/s\u001b[0m eta \u001b[36m0:00:00\u001b[0m\n",
            "\u001b[2K   \u001b[90m━━━━━━━━━━━━━━━━━━━━━━━━━━━━━━━━━━━━━━━━\u001b[0m \u001b[32m3.1/3.1 MB\u001b[0m \u001b[31m57.2 MB/s\u001b[0m eta \u001b[36m0:00:00\u001b[0m\n",
            "\u001b[2K   \u001b[90m━━━━━━━━━━━━━━━━━━━━━━━━━━━━━━━━━━━━━━━━\u001b[0m \u001b[32m1.8/1.8 MB\u001b[0m \u001b[31m60.8 MB/s\u001b[0m eta \u001b[36m0:00:00\u001b[0m\n",
            "\u001b[2K   \u001b[90m━━━━━━━━━━━━━━━━━━━━━━━━━━━━━━━━━━━━━━━━\u001b[0m \u001b[32m166.4/166.4 kB\u001b[0m \u001b[31m10.4 MB/s\u001b[0m eta \u001b[36m0:00:00\u001b[0m\n",
            "\u001b[2K   \u001b[90m━━━━━━━━━━━━━━━━━━━━━━━━━━━━━━━━━━━━━━━━\u001b[0m \u001b[32m76.4/76.4 kB\u001b[0m \u001b[31m5.3 MB/s\u001b[0m eta \u001b[36m0:00:00\u001b[0m\n",
            "\u001b[2K   \u001b[90m━━━━━━━━━━━━━━━━━━━━━━━━━━━━━━━━━━━━━━━━\u001b[0m \u001b[32m258.6/258.6 kB\u001b[0m \u001b[31m16.4 MB/s\u001b[0m eta \u001b[36m0:00:00\u001b[0m\n",
            "\u001b[2K   \u001b[90m━━━━━━━━━━━━━━━━━━━━━━━━━━━━━━━━━━━━━━━━\u001b[0m \u001b[32m79.5/79.5 kB\u001b[0m \u001b[31m5.2 MB/s\u001b[0m eta \u001b[36m0:00:00\u001b[0m\n",
            "\u001b[2K   \u001b[90m━━━━━━━━━━━━━━━━━━━━━━━━━━━━━━━━━━━━━━━━\u001b[0m \u001b[32m13.3/13.3 MB\u001b[0m \u001b[31m79.1 MB/s\u001b[0m eta \u001b[36m0:00:00\u001b[0m\n",
            "\u001b[2K   \u001b[90m━━━━━━━━━━━━━━━━━━━━━━━━━━━━━━━━━━━━━━━━\u001b[0m \u001b[32m165.1/165.1 kB\u001b[0m \u001b[31m11.0 MB/s\u001b[0m eta \u001b[36m0:00:00\u001b[0m\n",
            "\u001b[2K   \u001b[90m━━━━━━━━━━━━━━━━━━━━━━━━━━━━━━━━━━━━━━━━\u001b[0m \u001b[32m114.6/114.6 kB\u001b[0m \u001b[31m8.0 MB/s\u001b[0m eta \u001b[36m0:00:00\u001b[0m\n",
            "\u001b[2K   \u001b[90m━━━━━━━━━━━━━━━━━━━━━━━━━━━━━━━━━━━━━━━━\u001b[0m \u001b[32m2.9/2.9 MB\u001b[0m \u001b[31m73.6 MB/s\u001b[0m eta \u001b[36m0:00:00\u001b[0m\n",
            "\u001b[2K   \u001b[90m━━━━━━━━━━━━━━━━━━━━━━━━━━━━━━━━━━━━━━━━\u001b[0m \u001b[32m96.0/96.0 kB\u001b[0m \u001b[31m6.5 MB/s\u001b[0m eta \u001b[36m0:00:00\u001b[0m\n",
            "\u001b[2K   \u001b[90m━━━━━━━━━━━━━━━━━━━━━━━━━━━━━━━━━━━━━━━━\u001b[0m \u001b[32m46.0/46.0 kB\u001b[0m \u001b[31m2.8 MB/s\u001b[0m eta \u001b[36m0:00:00\u001b[0m\n",
            "\u001b[2K   \u001b[90m━━━━━━━━━━━━━━━━━━━━━━━━━━━━━━━━━━━━━━━━\u001b[0m \u001b[32m86.8/86.8 kB\u001b[0m \u001b[31m5.6 MB/s\u001b[0m eta \u001b[36m0:00:00\u001b[0m\n",
            "\u001b[?25h  Building wheel for langdetect (setup.py) ... \u001b[?25l\u001b[?25hdone\n",
            "  Building wheel for antlr4-python3-runtime (setup.py) ... \u001b[?25l\u001b[?25hdone\n",
            "\u001b[31mERROR: Operation cancelled by user\u001b[0m\u001b[31m\n",
            "\u001b[0m"
          ]
        }
      ]
    },
    {
      "cell_type": "code",
      "source": [
        "!pip install gigachat"
      ],
      "metadata": {
        "colab": {
          "base_uri": "https://localhost:8080/"
        },
        "id": "2wfWE6Qsum7n",
        "outputId": "c228eeda-8e5a-4721-9907-f9d117bd4bac"
      },
      "execution_count": 12,
      "outputs": [
        {
          "output_type": "stream",
          "name": "stdout",
          "text": [
            "Collecting gigachat\n",
            "  Using cached gigachat-0.1.38-py3-none-any.whl.metadata (14 kB)\n",
            "Collecting httpx<=0.27.2 (from gigachat)\n",
            "  Using cached httpx-0.27.2-py3-none-any.whl.metadata (7.1 kB)\n",
            "Requirement already satisfied: pydantic>=1 in /usr/local/lib/python3.11/dist-packages (from gigachat) (2.10.6)\n",
            "Requirement already satisfied: anyio in /usr/local/lib/python3.11/dist-packages (from httpx<=0.27.2->gigachat) (3.7.1)\n",
            "Requirement already satisfied: certifi in /usr/local/lib/python3.11/dist-packages (from httpx<=0.27.2->gigachat) (2025.1.31)\n",
            "Requirement already satisfied: httpcore==1.* in /usr/local/lib/python3.11/dist-packages (from httpx<=0.27.2->gigachat) (1.0.7)\n",
            "Requirement already satisfied: idna in /usr/local/lib/python3.11/dist-packages (from httpx<=0.27.2->gigachat) (3.10)\n",
            "Requirement already satisfied: sniffio in /usr/local/lib/python3.11/dist-packages (from httpx<=0.27.2->gigachat) (1.3.1)\n",
            "Requirement already satisfied: h11<0.15,>=0.13 in /usr/local/lib/python3.11/dist-packages (from httpcore==1.*->httpx<=0.27.2->gigachat) (0.14.0)\n",
            "Requirement already satisfied: annotated-types>=0.6.0 in /usr/local/lib/python3.11/dist-packages (from pydantic>=1->gigachat) (0.7.0)\n",
            "Requirement already satisfied: pydantic-core==2.27.2 in /usr/local/lib/python3.11/dist-packages (from pydantic>=1->gigachat) (2.27.2)\n",
            "Requirement already satisfied: typing-extensions>=4.12.2 in /usr/local/lib/python3.11/dist-packages (from pydantic>=1->gigachat) (4.12.2)\n",
            "Using cached gigachat-0.1.38-py3-none-any.whl (62 kB)\n",
            "Using cached httpx-0.27.2-py3-none-any.whl (76 kB)\n",
            "Installing collected packages: httpx, gigachat\n",
            "  Attempting uninstall: httpx\n",
            "    Found existing installation: httpx 0.28.1\n",
            "    Uninstalling httpx-0.28.1:\n",
            "      Successfully uninstalled httpx-0.28.1\n",
            "Successfully installed gigachat-0.1.38 httpx-0.27.2\n"
          ]
        }
      ]
    },
    {
      "cell_type": "code",
      "execution_count": 3,
      "metadata": {
        "colab": {
          "base_uri": "https://localhost:8080/"
        },
        "collapsed": true,
        "id": "WMK-H9xQtVii",
        "outputId": "6817d5f1-db50-4822-ae2c-5381e8e1c5c9"
      },
      "outputs": [
        {
          "output_type": "stream",
          "name": "stdout",
          "text": [
            "Collecting langchain_community\n",
            "  Downloading langchain_community-0.3.18-py3-none-any.whl.metadata (2.4 kB)\n",
            "Requirement already satisfied: langchain-core<1.0.0,>=0.3.37 in /usr/local/lib/python3.11/dist-packages (from langchain_community) (0.3.40)\n",
            "Requirement already satisfied: langchain<1.0.0,>=0.3.19 in /usr/local/lib/python3.11/dist-packages (from langchain_community) (0.3.19)\n",
            "Requirement already satisfied: SQLAlchemy<3,>=1.4 in /usr/local/lib/python3.11/dist-packages (from langchain_community) (2.0.38)\n",
            "Requirement already satisfied: requests<3,>=2 in /usr/local/lib/python3.11/dist-packages (from langchain_community) (2.32.3)\n",
            "Requirement already satisfied: PyYAML>=5.3 in /usr/local/lib/python3.11/dist-packages (from langchain_community) (6.0.2)\n",
            "Requirement already satisfied: aiohttp<4.0.0,>=3.8.3 in /usr/local/lib/python3.11/dist-packages (from langchain_community) (3.11.13)\n",
            "Requirement already satisfied: tenacity!=8.4.0,<10,>=8.1.0 in /usr/local/lib/python3.11/dist-packages (from langchain_community) (9.0.0)\n",
            "Collecting dataclasses-json<0.7,>=0.5.7 (from langchain_community)\n",
            "  Downloading dataclasses_json-0.6.7-py3-none-any.whl.metadata (25 kB)\n",
            "Collecting pydantic-settings<3.0.0,>=2.4.0 (from langchain_community)\n",
            "  Downloading pydantic_settings-2.8.1-py3-none-any.whl.metadata (3.5 kB)\n",
            "Requirement already satisfied: langsmith<0.4,>=0.1.125 in /usr/local/lib/python3.11/dist-packages (from langchain_community) (0.3.11)\n",
            "Collecting httpx-sse<1.0.0,>=0.4.0 (from langchain_community)\n",
            "  Downloading httpx_sse-0.4.0-py3-none-any.whl.metadata (9.0 kB)\n",
            "Requirement already satisfied: numpy<2,>=1.26.4 in /usr/local/lib/python3.11/dist-packages (from langchain_community) (1.26.4)\n",
            "Requirement already satisfied: aiohappyeyeballs>=2.3.0 in /usr/local/lib/python3.11/dist-packages (from aiohttp<4.0.0,>=3.8.3->langchain_community) (2.4.6)\n",
            "Requirement already satisfied: aiosignal>=1.1.2 in /usr/local/lib/python3.11/dist-packages (from aiohttp<4.0.0,>=3.8.3->langchain_community) (1.3.2)\n",
            "Requirement already satisfied: attrs>=17.3.0 in /usr/local/lib/python3.11/dist-packages (from aiohttp<4.0.0,>=3.8.3->langchain_community) (25.1.0)\n",
            "Requirement already satisfied: frozenlist>=1.1.1 in /usr/local/lib/python3.11/dist-packages (from aiohttp<4.0.0,>=3.8.3->langchain_community) (1.5.0)\n",
            "Requirement already satisfied: multidict<7.0,>=4.5 in /usr/local/lib/python3.11/dist-packages (from aiohttp<4.0.0,>=3.8.3->langchain_community) (6.1.0)\n",
            "Requirement already satisfied: propcache>=0.2.0 in /usr/local/lib/python3.11/dist-packages (from aiohttp<4.0.0,>=3.8.3->langchain_community) (0.3.0)\n",
            "Requirement already satisfied: yarl<2.0,>=1.17.0 in /usr/local/lib/python3.11/dist-packages (from aiohttp<4.0.0,>=3.8.3->langchain_community) (1.18.3)\n",
            "Collecting marshmallow<4.0.0,>=3.18.0 (from dataclasses-json<0.7,>=0.5.7->langchain_community)\n",
            "  Downloading marshmallow-3.26.1-py3-none-any.whl.metadata (7.3 kB)\n",
            "Collecting typing-inspect<1,>=0.4.0 (from dataclasses-json<0.7,>=0.5.7->langchain_community)\n",
            "  Downloading typing_inspect-0.9.0-py3-none-any.whl.metadata (1.5 kB)\n",
            "Requirement already satisfied: langchain-text-splitters<1.0.0,>=0.3.6 in /usr/local/lib/python3.11/dist-packages (from langchain<1.0.0,>=0.3.19->langchain_community) (0.3.6)\n",
            "Requirement already satisfied: pydantic<3.0.0,>=2.7.4 in /usr/local/lib/python3.11/dist-packages (from langchain<1.0.0,>=0.3.19->langchain_community) (2.10.6)\n",
            "Requirement already satisfied: jsonpatch<2.0,>=1.33 in /usr/local/lib/python3.11/dist-packages (from langchain-core<1.0.0,>=0.3.37->langchain_community) (1.33)\n",
            "Requirement already satisfied: packaging<25,>=23.2 in /usr/local/lib/python3.11/dist-packages (from langchain-core<1.0.0,>=0.3.37->langchain_community) (24.2)\n",
            "Requirement already satisfied: typing-extensions>=4.7 in /usr/local/lib/python3.11/dist-packages (from langchain-core<1.0.0,>=0.3.37->langchain_community) (4.12.2)\n",
            "Requirement already satisfied: httpx<1,>=0.23.0 in /usr/local/lib/python3.11/dist-packages (from langsmith<0.4,>=0.1.125->langchain_community) (0.28.1)\n",
            "Requirement already satisfied: orjson<4.0.0,>=3.9.14 in /usr/local/lib/python3.11/dist-packages (from langsmith<0.4,>=0.1.125->langchain_community) (3.10.15)\n",
            "Requirement already satisfied: requests-toolbelt<2.0.0,>=1.0.0 in /usr/local/lib/python3.11/dist-packages (from langsmith<0.4,>=0.1.125->langchain_community) (1.0.0)\n",
            "Requirement already satisfied: zstandard<0.24.0,>=0.23.0 in /usr/local/lib/python3.11/dist-packages (from langsmith<0.4,>=0.1.125->langchain_community) (0.23.0)\n",
            "Collecting python-dotenv>=0.21.0 (from pydantic-settings<3.0.0,>=2.4.0->langchain_community)\n",
            "  Downloading python_dotenv-1.0.1-py3-none-any.whl.metadata (23 kB)\n",
            "Requirement already satisfied: charset-normalizer<4,>=2 in /usr/local/lib/python3.11/dist-packages (from requests<3,>=2->langchain_community) (3.4.1)\n",
            "Requirement already satisfied: idna<4,>=2.5 in /usr/local/lib/python3.11/dist-packages (from requests<3,>=2->langchain_community) (3.10)\n",
            "Requirement already satisfied: urllib3<3,>=1.21.1 in /usr/local/lib/python3.11/dist-packages (from requests<3,>=2->langchain_community) (2.3.0)\n",
            "Requirement already satisfied: certifi>=2017.4.17 in /usr/local/lib/python3.11/dist-packages (from requests<3,>=2->langchain_community) (2025.1.31)\n",
            "Requirement already satisfied: greenlet!=0.4.17 in /usr/local/lib/python3.11/dist-packages (from SQLAlchemy<3,>=1.4->langchain_community) (3.1.1)\n",
            "Requirement already satisfied: anyio in /usr/local/lib/python3.11/dist-packages (from httpx<1,>=0.23.0->langsmith<0.4,>=0.1.125->langchain_community) (3.7.1)\n",
            "Requirement already satisfied: httpcore==1.* in /usr/local/lib/python3.11/dist-packages (from httpx<1,>=0.23.0->langsmith<0.4,>=0.1.125->langchain_community) (1.0.7)\n",
            "Requirement already satisfied: h11<0.15,>=0.13 in /usr/local/lib/python3.11/dist-packages (from httpcore==1.*->httpx<1,>=0.23.0->langsmith<0.4,>=0.1.125->langchain_community) (0.14.0)\n",
            "Requirement already satisfied: jsonpointer>=1.9 in /usr/local/lib/python3.11/dist-packages (from jsonpatch<2.0,>=1.33->langchain-core<1.0.0,>=0.3.37->langchain_community) (3.0.0)\n",
            "Requirement already satisfied: annotated-types>=0.6.0 in /usr/local/lib/python3.11/dist-packages (from pydantic<3.0.0,>=2.7.4->langchain<1.0.0,>=0.3.19->langchain_community) (0.7.0)\n",
            "Requirement already satisfied: pydantic-core==2.27.2 in /usr/local/lib/python3.11/dist-packages (from pydantic<3.0.0,>=2.7.4->langchain<1.0.0,>=0.3.19->langchain_community) (2.27.2)\n",
            "Collecting mypy-extensions>=0.3.0 (from typing-inspect<1,>=0.4.0->dataclasses-json<0.7,>=0.5.7->langchain_community)\n",
            "  Downloading mypy_extensions-1.0.0-py3-none-any.whl.metadata (1.1 kB)\n",
            "Requirement already satisfied: sniffio>=1.1 in /usr/local/lib/python3.11/dist-packages (from anyio->httpx<1,>=0.23.0->langsmith<0.4,>=0.1.125->langchain_community) (1.3.1)\n",
            "Downloading langchain_community-0.3.18-py3-none-any.whl (2.5 MB)\n",
            "\u001b[2K   \u001b[90m━━━━━━━━━━━━━━━━━━━━━━━━━━━━━━━━━━━━━━━━\u001b[0m \u001b[32m2.5/2.5 MB\u001b[0m \u001b[31m26.1 MB/s\u001b[0m eta \u001b[36m0:00:00\u001b[0m\n",
            "\u001b[?25hDownloading dataclasses_json-0.6.7-py3-none-any.whl (28 kB)\n",
            "Downloading httpx_sse-0.4.0-py3-none-any.whl (7.8 kB)\n",
            "Downloading pydantic_settings-2.8.1-py3-none-any.whl (30 kB)\n",
            "Downloading marshmallow-3.26.1-py3-none-any.whl (50 kB)\n",
            "\u001b[2K   \u001b[90m━━━━━━━━━━━━━━━━━━━━━━━━━━━━━━━━━━━━━━━━\u001b[0m \u001b[32m50.9/50.9 kB\u001b[0m \u001b[31m3.0 MB/s\u001b[0m eta \u001b[36m0:00:00\u001b[0m\n",
            "\u001b[?25hDownloading python_dotenv-1.0.1-py3-none-any.whl (19 kB)\n",
            "Downloading typing_inspect-0.9.0-py3-none-any.whl (8.8 kB)\n",
            "Downloading mypy_extensions-1.0.0-py3-none-any.whl (4.7 kB)\n",
            "Installing collected packages: python-dotenv, mypy-extensions, marshmallow, httpx-sse, typing-inspect, pydantic-settings, dataclasses-json, langchain_community\n",
            "Successfully installed dataclasses-json-0.6.7 httpx-sse-0.4.0 langchain_community-0.3.18 marshmallow-3.26.1 mypy-extensions-1.0.0 pydantic-settings-2.8.1 python-dotenv-1.0.1 typing-inspect-0.9.0\n"
          ]
        }
      ],
      "source": [
        "!pip install langchain_community\n",
        "from langchain_community.tools.sql_database.tool import QuerySQLDataBaseTool"
      ]
    },
    {
      "cell_type": "code",
      "source": [
        "from langchain.chat_models.gigachat import GigaChat\n",
        "\n",
        "auth = 'NWJkZTBiZTEtMjdkZC00ZTYyLWJhMjUtYThjOTJlZWVlYWYxOmFjMzBhNGZjLTM5NzctNGM2Zi04MGVmLTFmNDczYmJmMmUxMg=='\n",
        "giga = GigaChat(credentials = auth, model = 'GigaChat-Pro', verify_ssl_certs=False)"
      ],
      "metadata": {
        "id": "fYcPBCaCtm6G"
      },
      "execution_count": 13,
      "outputs": []
    },
    {
      "cell_type": "code",
      "source": [
        "import sqlite3\n",
        "import csv\n",
        "\n",
        "connect = sqlite3.connect('data.db')\n",
        "cursor = connect.cursor()\n",
        "\n",
        "# Create table\n",
        "cursor.execute('''\n",
        "CREATE TABLE IF NOT EXISTS data_1 (\n",
        "    appl_dt text,\n",
        "    id integer,\n",
        "    reason text,\n",
        "    regstd_cred_cey_amt integer,\n",
        "    cale_cred_ccy_amt integer,\n",
        "    dpd integer,\n",
        "    overdue integer,\n",
        "    ki_payments integer,\n",
        "    cc_payments integer,\n",
        "    fssp_number integer,\n",
        "    card_number integer)\n",
        "''')\n",
        "\n",
        "# Open the CSV file and read its contents\n",
        "with open('data_1.csv', 'r') as csv_file:\n",
        "    csv_reader = csv.reader(csv_file)\n",
        "\n",
        "    next(csv_reader)\n",
        "\n",
        "    for row in csv_reader:\n",
        "        cursor.execute('''\n",
        "        INSERT INTO data_1 (appl_dt,\n",
        "                            id,\n",
        "                            reason,\n",
        "                            regstd_cred_cey_amt,\n",
        "                            cale_cred_ccy_amt,\n",
        "                            dpd,\n",
        "                            overdue,\n",
        "                            ki_payments,\n",
        "                            cc_payments,\n",
        "                            fssp_number,\n",
        "                            card_number)\n",
        "        VALUES (?, ?, ?, ?, ?, ?, ?, ?, ?, ?, ?)\n",
        "        ''', (row[0].split(';')[0],\n",
        "              row[0].split(';')[1],\n",
        "              row[0].split(';')[2],\n",
        "              row[0].split(';')[3],\n",
        "              row[0].split(';')[4],\n",
        "              row[0].split(';')[5],\n",
        "              row[0].split(';')[6],\n",
        "              row[0].split(';')[7],\n",
        "              row[0].split(';')[8],\n",
        "              row[0].split(';')[9],\n",
        "              row[0].split(';')[10]))\n",
        "\n",
        "# Commit changes and close the connection\n",
        "connect.commit()\n",
        "connect.close()"
      ],
      "metadata": {
        "id": "ARLMQaJ9tm8f"
      },
      "execution_count": 4,
      "outputs": []
    },
    {
      "cell_type": "code",
      "source": [
        "connect = sqlite3.connect('data.db')\n",
        "cursor = connect.cursor()\n",
        "\n",
        "# Create table\n",
        "cursor.execute('''\n",
        "CREATE TABLE IF NOT EXISTS data_2_clients (\n",
        "    id integer,\n",
        "    fio text)\n",
        "''')\n",
        "\n",
        "# Open the CSV file and read its contents\n",
        "with open('data_2_clients.csv', 'r') as csv_file:\n",
        "    csv_reader = csv.reader(csv_file)\n",
        "\n",
        "    next(csv_reader)\n",
        "\n",
        "    for row in csv_reader:\n",
        "        cursor.execute('''\n",
        "        INSERT INTO data_2_clients (id,\n",
        "        fio)\n",
        "        VALUES (?, ?)\n",
        "        ''', (row[0].split(';')[0],\n",
        "              row[0].split(';')[1]))\n",
        "\n",
        "# Commit changes and close the connection\n",
        "connect.commit()\n",
        "connect.close()"
      ],
      "metadata": {
        "id": "vVF3E-D1tm_F"
      },
      "execution_count": 5,
      "outputs": []
    },
    {
      "cell_type": "code",
      "source": [
        "connection = sqlite3.connect('data.db')\n",
        "cursor = connection.cursor()\n",
        "\n",
        "# Выбираем всех пользователей\n",
        "cursor.execute('SELECT * FROM data_1')\n",
        "cursor.fetchall()"
      ],
      "metadata": {
        "collapsed": true,
        "colab": {
          "base_uri": "https://localhost:8080/"
        },
        "id": "KWp5MeVguNC5",
        "outputId": "d2affad5-278f-4453-d95a-88acdae9d841"
      },
      "execution_count": 6,
      "outputs": [
        {
          "output_type": "execute_result",
          "data": {
            "text/plain": [
              "[('05.02.2025', 1, 'Кредитная история', 60000, 0, 0, 1, 5714, 0, 0, 0),\n",
              " ('28.12.2024', 2, 'Лимит', 300000, 0, 0, 0, 24550, 0, 0, 0),\n",
              " ('11.12.2024', 3, 'Кредитная история', 30000, 0, 0, 1, 19661, 0, 0, 0),\n",
              " ('11.12.2024', 4, 'Модель', 10000, 0, 0, 0, 0, 0, 0, 0),\n",
              " ('01.02.2025', 5, 'Кредитная история', 100000, 0, 54929, 1, 0, 0, 0, 0),\n",
              " ('12.12.2024', 6, 'Лимит', 300000, 0, 38910, 0, 34689, 0, 0, 0),\n",
              " ('09.12.2024', 7, 'Кредитная история', 300000, 0, 136957, 1, 24750, 0, 0, 0),\n",
              " ('21.01.2025', 8, 'Модель', 160000, 0, 0, 0, 3565, 0, 0, 0),\n",
              " ('06.12.2024', 9, 'Кредитная история', 300000, 0, 0, 1, 29500, 0, 0, 0),\n",
              " ('15.01.2025', 10, 'Кредитная история', 100000, 0, 0, 1, 500, 0, 0, 0),\n",
              " ('09.01.2025', 11, 'Лимит', 80000, 0, 6835, 0, 3250, 0, 0, 0),\n",
              " ('14.01.2025', 12, 'Лимит', 450000, 0, 61884, 0, 147939, 0, 0, 0),\n",
              " ('21.01.2025', 13, 'Модель', 80000, 0, 0, 0, 0, 0, 0, 0),\n",
              " ('10.01.2025', 14, 'Лимит', 600000, 0, 26717, 0, 27921, 0, 0, 0),\n",
              " ('03.01.2025', 15, 'Лимит', 50000, 0, 9503, 0, 19465, 0, 0, 0),\n",
              " ('05.01.2025', 16, 'Кредитная история', 100000, 0, 0, 1, 61461, 0, 0, 0),\n",
              " ('26.01.2025', 17, 'Лимит', 100000, 0, 22986, 0, 30613, 0, 0, 0),\n",
              " ('08.01.2025',\n",
              "  18,\n",
              "  'Кредитная история',\n",
              "  100000,\n",
              "  0,\n",
              "  133245,\n",
              "  1,\n",
              "  84987,\n",
              "  8499,\n",
              "  0,\n",
              "  0),\n",
              " ('06.02.2025', 19, 'Кредитная история', 120000, 0, 0, 1, 0, 0, 0, 0),\n",
              " ('08.01.2025', 20, 'Кредитная история', 300000, 0, 16580, 1, 21740, 0, 0, 0),\n",
              " ('04.12.2024', 21, 'Лимит', 1400000, 0, 0, 0, 97559, 0, 0, 0),\n",
              " ('19.12.2024', 22, 'Лимит', 50000, 0, 22143, 0, 18199, 0, 0, 0),\n",
              " ('15.01.2025', 23, 'Лимит', 10000, 0, 0, 0, 16452, 0, 0, 0),\n",
              " ('27.12.2024', 24, 'Лимит', 300000, 0, 13094, 0, 14991, 0, 0, 0),\n",
              " ('21.12.2024', 25, 'Модель', 100000, 0, 0, 0, 0, 0, 0, 0),\n",
              " ('24.01.2025', 26, 'Модель', 530000, 0, 0, 0, 7827, 783, 0, 0),\n",
              " ('14.12.2024', 27, 'Лимит', 100000, 0, 0, 0, 39948, 0, 0, 0),\n",
              " ('10.02.2025', 28, 'Кредитная история', 300000, 0, 107823, 1, 8145, 0, 0, 0),\n",
              " ('12.01.2025', 29, 'Кредитная история', 300000, 0, 0, 1, 7000, 0, 0, 0),\n",
              " ('30.01.2025', 30, 'Кредитная история', 300000, 0, 36064, 1, 6383, 0, 0, 0),\n",
              " ('26.12.2024', 31, 'Кредитная история', 30000, 0, 0, 1, 12950, 0, 0, 0),\n",
              " ('17.12.2024', 32, 'Модель', 30000, 0, 0, 0, 9189, 0, 0, 0),\n",
              " ('30.12.2024', 33, 'Модель', 900000, 0, 4268, 0, 46708, 0, 0, 0),\n",
              " ('06.12.2024', 34, 'Лимит', 300000, 0, 30121, 0, 7843, 0, 0, 0),\n",
              " ('17.02.2025', 35, 'Одобрено', 100000, 100000, 0, 0, 5000, 0, 0, 0),\n",
              " ('24.12.2024', 36, 'Кредитная история', 21000, 0, 0, 1, 18442, 0, 0, 0),\n",
              " ('16.01.2025', 37, 'Кредитная история', 100000, 0, 81902, 1, 0, 0, 0, 0),\n",
              " ('09.01.2025', 38, 'Модель', 30000, 0, 0, 0, 9756, 0, 0, 0),\n",
              " ('16.01.2025', 39, 'Лимит', 300000, 0, 45863, 0, 27316, 0, 0, 0),\n",
              " ('30.12.2024', 40, 'Кредитная история', 15000, 0, 37313, 1, 40658, 0, 0, 0),\n",
              " ('05.12.2024', 41, 'Лимит', 150000, 0, 8149, 0, 15658, 0, 0, 0),\n",
              " ('28.01.2025', 42, 'Лимит', 874000, 0, 0, 0, 40152, 0, 0, 0),\n",
              " ('21.01.2025', 43, 'Модель', 100000, 0, 0, 0, 18490, 0, 0, 0),\n",
              " ('07.12.2024', 44, 'Кредитная история', 70000, 0, 45098, 1, 10534, 0, 0, 0),\n",
              " ('08.01.2025', 45, 'Кредитная история', 500000, 0, 0, 1, 8850, 0, 0, 0),\n",
              " ('09.02.2025', 46, 'Кредитная история', 300000, 0, 0, 1, 24719, 0, 0, 0),\n",
              " ('10.01.2025', 47, 'Модель', 700000, 0, 0, 0, 98748, 0, 0, 0),\n",
              " ('31.12.2024', 48, 'Одобрено', 10000, 10000, 7077, 0, 3100, 0, 0, 0),\n",
              " ('15.01.2025', 49, 'Модель', 300000, 0, 0, 0, 69744, 0, 0, 0),\n",
              " ('31.01.2025', 50, 'Кредитная история', 200000, 0, 0, 1, 37804, 0, 0, 0),\n",
              " ('05.01.2025', 51, 'Модель', 1200000, 0, 0, 0, 27807, 0, 0, 0),\n",
              " ('03.12.2024', 52, 'Лимит', 300000, 0, 0, 0, 106306, 0, 0, 0),\n",
              " ('04.12.2024', 53, 'Кредитная история', 300000, 0, 0, 1, 17000, 0, 0, 0),\n",
              " ('04.12.2024', 54, 'Модель', 10000, 0, 0, 0, 19863, 0, 0, 0),\n",
              " ('22.12.2024', 55, 'Одобрено', 169000, 169000, 0, 0, 9500, 0, 0, 0),\n",
              " ('14.12.2024', 56, 'Кредитная история', 300000, 0, 0, 1, 963, 0, 0, 0),\n",
              " ('31.01.2025', 57, 'Модель', 600000, 0, 0, 0, 9450, 0, 0, 0),\n",
              " ('01.02.2025', 58, 'Лимит', 860000, 0, 44954, 0, 27018, 2702, 0, 0),\n",
              " ('28.12.2024', 59, 'Кредитная история', 300000, 0, 28686, 1, 24258, 0, 0, 0),\n",
              " ('12.12.2024', 60, 'Лимит', 35000, 0, 0, 0, 16634, 0, 0, 0),\n",
              " ('06.01.2025', 61, 'Модель', 10000, 0, 0, 0, 14846, 0, 0, 0),\n",
              " ('03.02.2025', 62, 'Кредитная история', 120000, 0, 29606, 1, 524, 0, 0, 0),\n",
              " ('29.01.2025', 63, 'Лимит', 300000, 0, 49873, 0, 67153, 0, 0, 0),\n",
              " ('11.02.2025', 64, 'Кредитная история', 100000, 0, 0, 1, 3500, 0, 0, 0),\n",
              " ('30.12.2024', 65, 'Кредитная история', 300000, 0, 0, 1, 223, 0, 0, 0),\n",
              " ('04.02.2025', 66, 'Лимит', 100000, 0, 0, 0, 226110, 0, 0, 0),\n",
              " ('07.01.2025', 67, 'Модель', 65000, 0, 6747, 0, 4050, 0, 0, 0),\n",
              " ('09.01.2025', 68, 'Модель', 60000, 0, 0, 0, 6750, 0, 0, 0),\n",
              " ('30.12.2024', 69, 'Лимит', 100000, 0, 0, 0, 94242, 0, 0, 0),\n",
              " ('19.12.2024', 70, 'Благонадежность', 300000, 0, 9445, 0, 3250, 325, 4075, 0),\n",
              " ('06.02.2025', 71, 'Кредитная история', 150000, 0, 0, 1, 40585, 0, 0, 0),\n",
              " ('24.01.2025', 72, 'Лимит', 300000, 0, 39475, 0, 55139, 0, 0, 0),\n",
              " ('18.01.2025', 73, 'Благонадежность', 150000, 0, 0, 0, 0, 0, 4128, 0),\n",
              " ('26.01.2025', 74, 'Кредитная история', 50000, 0, 15010, 1, 185, 0, 0, 0),\n",
              " ('02.02.2025', 75, 'Кредитная история', 300000, 0, 60605, 1, 37126, 0, 0, 0),\n",
              " ('03.01.2025', 76, 'Модель', 800000, 0, 0, 0, 4500, 0, 0, 0),\n",
              " ('23.01.2025', 77, 'Кредитная история', 10000, 0, 0, 1, 0, 0, 0, 0),\n",
              " ('12.01.2025', 78, 'Лимит', 100000, 0, 22917, 0, 131539, 0, 0, 0),\n",
              " ('28.01.2025', 79, 'Кредитная история', 50000, 0, 169022, 1, 1897, 0, 0, 0),\n",
              " ('07.02.2025',\n",
              "  80,\n",
              "  'Благонадежность',\n",
              "  300000,\n",
              "  0,\n",
              "  154548,\n",
              "  0,\n",
              "  21750,\n",
              "  0,\n",
              "  4803,\n",
              "  0),\n",
              " ('14.01.2025', 81, 'Модель', 500000, 0, 0, 0, 46645, 0, 0, 0),\n",
              " ('26.01.2025', 82, 'Кредитная история', 300000, 0, 0, 1, 37323, 0, 0, 0),\n",
              " ('10.01.2025', 83, 'Кредитная история', 20000, 0, 0, 1, 98560, 0, 0, 0),\n",
              " ('12.12.2024', 84, 'Модель', 15000, 0, 0, 0, 15882, 0, 0, 0),\n",
              " ('07.12.2024', 85, 'Модель', 150000, 0, 0, 0, 4250, 0, 0, 0),\n",
              " ('15.12.2024', 86, 'Модель', 250000, 0, 0, 0, 24871, 2487, 0, 0),\n",
              " ('19.12.2024', 87, 'Кредитная история', 300000, 0, 0, 1, 0, 0, 0, 0),\n",
              " ('10.12.2024', 88, 'Кредитная история', 30000, 0, 0, 1, 0, 0, 0, 0),\n",
              " ('11.02.2025', 89, 'Кредитная история', 350000, 0, 21373, 1, 7500, 0, 0, 0),\n",
              " ('11.12.2024', 90, 'Лимит', 800000, 0, 0, 0, 13980, 0, 0, 0),\n",
              " ('09.01.2025', 91, 'Лимит', 300000, 0, 0, 0, 8117, 812, 0, 0),\n",
              " ('04.01.2025', 92, 'Лимит', 500000, 0, 12067, 0, 2424, 0, 0, 0),\n",
              " ('29.01.2025', 93, 'Лимит', 625000, 0, 34735, 0, 14158, 0, 0, 0),\n",
              " ('07.01.2025', 94, 'Лимит', 700000, 0, 15031, 0, 38331, 0, 0, 0),\n",
              " ('28.01.2025', 95, 'Кредитная история', 100000, 0, 0, 1, 97, 0, 0, 0),\n",
              " ('11.12.2024', 96, 'Кредитная история', 30000, 0, 18455, 1, 11390, 0, 0, 0),\n",
              " ('23.12.2024', 97, 'Лимит', 50000, 0, 0, 0, 52836, 5284, 0, 0),\n",
              " ('03.02.2025', 98, 'Кредитная история', 200000, 0, 46028, 1, 48, 0, 0, 0),\n",
              " ('15.12.2024', 99, 'Кредитная история', 10000, 0, 0, 1, 802, 80, 0, 0),\n",
              " ('06.01.2025', 100, 'Кредитная история', 300000, 0, 14104, 1, 0, 0, 0, 0),\n",
              " ('21.01.2025', 101, 'Лимит', 300000, 0, 0, 0, 14657, 0, 0, 0),\n",
              " ('05.01.2025', 102, 'Кредитная история', 20000, 0, 0, 1, 320, 0, 0, 0),\n",
              " ('31.12.2024', 103, 'Лимит', 50000, 0, 0, 0, 54655, 0, 0, 0),\n",
              " ('04.01.2025', 104, 'Кредитная история', 250000, 0, 86973, 1, 0, 0, 0, 0),\n",
              " ('11.02.2025', 105, 'Кредитная история', 500000, 0, 0, 1, 52589, 0, 0, 0),\n",
              " ('19.12.2024', 106, 'Модель', 500000, 0, 0, 0, 0, 0, 0, 0),\n",
              " ('09.02.2025', 107, 'Лимит', 3000000, 0, 34294, 0, 61800, 0, 0, 0),\n",
              " ('13.01.2025', 108, 'Модель', 300000, 0, 189201, 0, 134584, 0, 0, 0),\n",
              " ('10.02.2025', 109, 'Благонадежность', 150000, 0, 37243, 0, 5300, 0, 6544, 0),\n",
              " ('01.02.2025', 110, 'Кредитная история', 100000, 0, 0, 1, 6000, 0, 0, 0),\n",
              " ('15.01.2025', 111, 'Кредитная история', 500000, 0, 0, 1, 0, 0, 0, 0),\n",
              " ('13.12.2024', 112, 'Лимит', 300000, 0, 49885, 0, 99507, 0, 0, 0),\n",
              " ('09.01.2025', 113, 'Лимит', 30000, 0, 11186, 0, 10304, 0, 0, 0),\n",
              " ('30.01.2025', 114, 'Модель', 500000, 0, 0, 0, 31097, 3110, 0, 0),\n",
              " ('09.12.2024', 115, 'Кредитная история', 10000, 0, 4185, 1, 0, 0, 0, 0),\n",
              " ('15.12.2024', 116, 'Одобрено', 67000, 67000, 14236, 0, 17968, 0, 0, 0),\n",
              " ('20.01.2025', 117, 'Лимит', 1000000, 0, 38662, 0, 11000, 0, 0, 0),\n",
              " ('13.01.2025', 118, 'Кредитная история', 100000, 0, 29094, 1, 0, 0, 0, 0),\n",
              " ('16.01.2025', 119, 'Кредитная история', 300000, 0, 0, 1, 4644, 0, 0, 0),\n",
              " ('05.02.2025', 120, 'Модель', 300000, 0, 0, 0, 17024, 0, 0, 0),\n",
              " ('19.12.2024', 121, 'Кредитная история', 150000, 0, 0, 1, 76362, 0, 0, 0),\n",
              " ('09.02.2025', 122, 'Кредитная история', 300000, 0, 0, 1, 59999, 0, 0, 0),\n",
              " ('16.01.2025', 123, 'Кредитная история', 300000, 0, 0, 1, 8, 0, 0, 0),\n",
              " ('11.02.2025', 124, 'Кредитная история', 50000, 0, 0, 1, 8000, 0, 0, 0),\n",
              " ('29.01.2025', 125, 'Лимит', 100000, 0, 0, 0, 65557, 0, 0, 0),\n",
              " ('11.02.2025', 126, 'Благонадежность', 35000, 0, 0, 0, 9045, 0, 7374, 0),\n",
              " ('27.01.2025', 127, 'Модель', 100000, 0, 0, 0, 4500, 0, 0, 0),\n",
              " ('31.12.2024', 128, 'Лимит', 1500000, 0, 16674, 0, 13750, 0, 0, 0),\n",
              " ('10.01.2025', 129, 'Модель', 300000, 0, 0, 0, 17794, 0, 0, 0),\n",
              " ('10.12.2024', 130, 'Кредитная история', 200000, 0, 0, 1, 40546, 0, 0, 0),\n",
              " ('09.01.2025', 131, 'Модель', 500000, 0, 0, 0, 44984, 4498, 0, 0),\n",
              " ('12.12.2024', 132, 'Одобрено', 70000, 70000, 0, 0, 0, 0, 0, 0),\n",
              " ('12.12.2024', 133, 'Модель', 300000, 0, 4194, 0, 9981, 0, 0, 0),\n",
              " ('05.12.2024', 134, 'Кредитная история', 30000, 0, 0, 1, 2676, 268, 0, 0),\n",
              " ('21.12.2024', 135, 'Кредитная история', 300000, 0, 30831, 1, 30336, 0, 0, 0),\n",
              " ('13.12.2024', 136, 'Модель', 500000, 0, 18455, 0, 0, 0, 0, 0),\n",
              " ('22.01.2025', 137, 'Лимит', 500000, 0, 0, 0, 54452, 0, 0, 0),\n",
              " ('11.12.2024', 138, 'Кредитная история', 10000, 0, 32033, 1, 8665, 0, 0, 0),\n",
              " ('26.01.2025', 139, 'Модель', 3500000, 0, 0, 0, 0, 0, 0, 0),\n",
              " ('23.12.2024', 140, 'Кредитная история', 30000, 0, 0, 1, 72316, 0, 0, 0),\n",
              " ('02.02.2025', 141, 'Модель', 1300000, 0, 155010, 0, 6400, 0, 0, 0),\n",
              " ('14.01.2025', 142, 'Одобрено', 75000, 75000, 0, 0, 9750, 0, 0, 0),\n",
              " ('14.12.2024', 143, 'Лимит', 450000, 0, 99908, 0, 81777, 0, 0, 0),\n",
              " ('11.02.2025', 144, 'Кредитная история', 300000, 0, 4365, 1, 3507, 0, 0, 0),\n",
              " ('02.12.2024', 145, 'Модель', 300000, 0, 0, 0, 5224, 0, 0, 0),\n",
              " ('04.12.2024', 146, 'Модель', 6000000, 0, 0, 0, 25100, 0, 0, 0),\n",
              " ('14.02.2025', 147, 'Модель', 30000, 0, 51005, 0, 43147, 0, 0, 0),\n",
              " ('23.01.2025', 148, 'Кредитная история', 10000, 0, 0, 1, 0, 0, 0, 0),\n",
              " ('05.12.2024', 149, 'Лимит', 300000, 0, 0, 0, 55337, 0, 0, 0),\n",
              " ('22.12.2024', 150, 'Лимит', 300000, 0, 39004, 0, 20296, 0, 0, 0),\n",
              " ('05.12.2024', 151, 'Модель', 300000, 0, 72991, 0, 13250, 0, 0, 0),\n",
              " ('12.12.2024', 152, 'Модель', 50000, 0, 0, 0, 2900, 0, 0, 0),\n",
              " ('18.01.2025', 153, 'Кредитная история', 150000, 0, 50172, 1, 17454, 0, 0, 0),\n",
              " ('07.01.2025', 154, 'Модель', 50000, 0, 8, 0, 30283, 0, 0, 0),\n",
              " ('25.12.2024', 155, 'Кредитная история', 300000, 0, 0, 1, 28447, 0, 0, 0),\n",
              " ('17.12.2024', 156, 'Кредитная история', 300000, 0, 7194, 1, 54373, 0, 0, 0),\n",
              " ('17.12.2024', 157, 'Кредитная история', 60000, 0, 50099, 1, 30342, 0, 0, 0),\n",
              " ('12.12.2024',\n",
              "  158,\n",
              "  'Кредитная история',\n",
              "  300000,\n",
              "  0,\n",
              "  61968,\n",
              "  1,\n",
              "  17410,\n",
              "  1741,\n",
              "  0,\n",
              "  0),\n",
              " ('06.12.2024', 159, 'Лимит', 200000, 0, 13984, 0, 10750, 0, 0, 0),\n",
              " ('10.02.2025', 160, 'Кредитная история', 10000, 0, 92912, 1, 37423, 0, 0, 0),\n",
              " ('08.01.2025',\n",
              "  161,\n",
              "  'Кредитная история',\n",
              "  100000,\n",
              "  0,\n",
              "  50565,\n",
              "  1,\n",
              "  35376,\n",
              "  3538,\n",
              "  0,\n",
              "  0),\n",
              " ('02.02.2025', 162, 'Кредитная история', 300000, 0, 757, 1, 65781, 0, 0, 0),\n",
              " ('06.12.2024', 163, 'Модель', 300000, 0, 0, 0, 17299, 0, 0, 0),\n",
              " ('14.01.2025', 164, 'Модель', 500000, 0, 0, 0, 11250, 1125, 0, 0),\n",
              " ('02.12.2024', 165, 'Лимит', 300000, 0, 79106, 0, 31894, 0, 0, 0),\n",
              " ('29.01.2025', 166, 'Благонадежность', 300000, 0, 0, 0, 10750, 0, 9110, 0),\n",
              " ('06.12.2024', 167, 'Модель', 500000, 0, 60400, 0, 5000, 0, 0, 0),\n",
              " ('10.12.2024', 168, 'Кредитная история', 100000, 0, 0, 1, 688, 0, 0, 0),\n",
              " ('31.01.2025', 169, 'Кредитная история', 150000, 0, 0, 1, 878, 0, 0, 0),\n",
              " ('12.12.2024', 170, 'Кредитная история', 20000, 0, 12277, 1, 28471, 0, 0, 0),\n",
              " ('14.12.2024', 171, 'Кредитная история', 15000, 0, 0, 1, 30882, 0, 0, 0),\n",
              " ('14.12.2024', 172, 'Кредитная история', 35000, 0, 0, 1, 0, 0, 0, 0),\n",
              " ('07.02.2025', 173, 'Кредитная история', 1000000, 0, 0, 1, 24273, 0, 0, 0),\n",
              " ('31.12.2024', 174, 'Модель', 100000, 0, 0, 0, 43300, 0, 0, 0),\n",
              " ('23.12.2024', 175, 'Модель', 20000, 0, 0, 0, 11815, 0, 0, 0),\n",
              " ('02.02.2025', 176, 'Кредитная история', 300000, 0, 0, 1, 6500, 0, 0, 0),\n",
              " ('18.12.2024', 177, 'Благонадежность', 200000, 0, 44603, 0, 0, 0, 9593, 0),\n",
              " ('27.01.2025', 178, 'Кредитная история', 250000, 0, 22971, 1, 6000, 0, 0, 0),\n",
              " ('05.02.2025', 179, 'Модель', 200000, 0, 0, 0, 0, 0, 0, 0),\n",
              " ('14.01.2025', 180, 'Кредитная история', 150000, 0, 9450, 1, 8000, 0, 0, 0),\n",
              " ('19.12.2024',\n",
              "  181,\n",
              "  'Кредитная история',\n",
              "  1000000,\n",
              "  0,\n",
              "  47748,\n",
              "  1,\n",
              "  10550,\n",
              "  0,\n",
              "  0,\n",
              "  0),\n",
              " ('03.01.2025', 182, 'Кредитная история', 500000, 0, 62288, 1, 500, 0, 0, 0),\n",
              " ('13.12.2024', 183, 'Лимит', 300000, 0, 61416, 0, 51583, 0, 0, 0),\n",
              " ('26.12.2024', 184, 'Кредитная история', 370000, 0, 0, 1, 20720, 0, 0, 0),\n",
              " ('16.01.2025', 185, 'Лимит', 30000, 0, 0, 0, 9850, 0, 0, 0),\n",
              " ('03.01.2025', 186, 'Лимит', 50000, 0, 0, 0, 22773, 2277, 0, 0),\n",
              " ('01.02.2025', 187, 'Кредитная история', 480000, 0, 0, 1, 19745, 0, 0, 0),\n",
              " ('31.12.2024', 188, 'Кредитная история', 130000, 0, 0, 1, 0, 0, 0, 0),\n",
              " ('02.12.2024', 189, 'Кредитная история', 300000, 0, 0, 1, 33036, 0, 0, 0),\n",
              " ('07.01.2025', 190, 'Модель', 300000, 0, 87937, 0, 73042, 0, 0, 0),\n",
              " ('25.01.2025', 191, 'Модель', 300000, 0, 214917, 0, 78317, 0, 0, 0),\n",
              " ('11.02.2025', 192, 'Модель', 150000, 0, 15360, 0, 2718, 0, 0, 0),\n",
              " ('29.12.2024', 193, 'Модель', 388000, 0, 0, 0, 12950, 0, 0, 0),\n",
              " ('08.02.2025', 194, 'Благонадежность', 300000, 0, 0, 0, 6200, 0, 10463, 0),\n",
              " ('15.01.2025', 195, 'Модель', 400000, 0, 0, 0, 12750, 1275, 0, 0),\n",
              " ('30.01.2025', 196, 'Кредитная история', 50000, 0, 0, 1, 37892, 0, 0, 0),\n",
              " ('31.01.2025', 197, 'Одобрено', 158000, 158000, 18181, 0, 2250, 0, 0, 0),\n",
              " ('30.12.2024', 198, 'Благонадежность', 130000, 0, 0, 0, 500, 0, 10587, 0),\n",
              " ('18.12.2024', 199, 'Лимит', 50000, 0, 0, 0, 42107, 0, 0, 0),\n",
              " ('14.01.2025', 200, 'Кредитная история', 300000, 0, 37171, 1, 27055, 0, 0, 0),\n",
              " ('08.12.2024', 201, 'Лимит', 250000, 0, 0, 0, 81351, 8135, 0, 0),\n",
              " ('30.01.2025', 202, 'Модель', 85000, 0, 17001, 0, 4000, 0, 0, 0),\n",
              " ('24.12.2024', 203, 'Лимит', 280000, 0, 0, 0, 49174, 4917, 0, 0),\n",
              " ('04.12.2024', 204, 'Модель', 950000, 0, 0, 0, 0, 0, 0, 0),\n",
              " ('16.01.2025', 205, 'Кредитная история', 80000, 0, 54203, 1, 6458, 0, 0, 0),\n",
              " ('05.01.2025', 206, 'Одобрено', 500000, 500000, 117257, 0, 0, 0, 0, 0),\n",
              " ('10.02.2025', 207, 'Кредитная история', 300000, 0, 12990, 1, 1750, 0, 0, 0),\n",
              " ('03.12.2024', 208, 'Лимит', 100000, 0, 24161, 0, 29195, 0, 0, 0),\n",
              " ('04.12.2024', 209, 'Лимит', 300000, 0, 18017, 0, 156018, 0, 0, 0),\n",
              " ('30.12.2024', 210, 'Лимит', 120000, 0, 46346, 0, 57371, 5737, 0, 0),\n",
              " ('07.12.2024', 211, 'Кредитная история', 300000, 0, 0, 1, 9000, 0, 0, 0),\n",
              " ('21.01.2025', 212, 'Модель', 500000, 0, 0, 0, 16114, 0, 0, 0),\n",
              " ('25.12.2024', 213, 'Кредитная история', 300000, 0, 0, 1, 69061, 0, 0, 0),\n",
              " ('18.12.2024', 214, 'Кредитная история', 2000000, 0, 0, 1, 50980, 0, 0, 0),\n",
              " ('08.02.2025', 215, 'Кредитная история', 10000, 0, 0, 1, 64, 0, 0, 0)]"
            ]
          },
          "metadata": {},
          "execution_count": 6
        }
      ]
    },
    {
      "cell_type": "code",
      "source": [
        "from langchain_community.utilities import SQLDatabase\n",
        "\n",
        "connection = sqlite3.connect('data.db')\n",
        "cursor = connection.cursor()\n",
        "\n",
        "db = SQLDatabase.from_uri(\"sqlite:///data.db\")\n",
        "print(db.dialect)\n",
        "print(db.get_usable_table_names())\n",
        "db.run(\"SELECT * FROM data_1 LIMIT 10;\")"
      ],
      "metadata": {
        "colab": {
          "base_uri": "https://localhost:8080/",
          "height": 160
        },
        "id": "BaVzCadQuNFO",
        "outputId": "710098c3-cfda-44f3-97e1-4d64f96fe987"
      },
      "execution_count": 7,
      "outputs": [
        {
          "output_type": "stream",
          "name": "stdout",
          "text": [
            "sqlite\n",
            "['data_1', 'data_2_clients']\n"
          ]
        },
        {
          "output_type": "execute_result",
          "data": {
            "text/plain": [
              "\"[('05.02.2025', 1, 'Кредитная история', 60000, 0, 0, 1, 5714, 0, 0, 0), ('28.12.2024', 2, 'Лимит', 300000, 0, 0, 0, 24550, 0, 0, 0), ('11.12.2024', 3, 'Кредитная история', 30000, 0, 0, 1, 19661, 0, 0, 0), ('11.12.2024', 4, 'Модель', 10000, 0, 0, 0, 0, 0, 0, 0), ('01.02.2025', 5, 'Кредитная история', 100000, 0, 54929, 1, 0, 0, 0, 0), ('12.12.2024', 6, 'Лимит', 300000, 0, 38910, 0, 34689, 0, 0, 0), ('09.12.2024', 7, 'Кредитная история', 300000, 0, 136957, 1, 24750, 0, 0, 0), ('21.01.2025', 8, 'Модель', 160000, 0, 0, 0, 3565, 0, 0, 0), ('06.12.2024', 9, 'Кредитная история', 300000, 0, 0, 1, 29500, 0, 0, 0), ('15.01.2025', 10, 'Кредитная история', 100000, 0, 0, 1, 500, 0, 0, 0)]\""
            ],
            "application/vnd.google.colaboratory.intrinsic+json": {
              "type": "string"
            }
          },
          "metadata": {},
          "execution_count": 7
        }
      ]
    },
    {
      "cell_type": "code",
      "source": [
        "from langchain.chains import create_sql_query_chain\n",
        "chain = create_sql_query_chain(giga, db)\n",
        "response = chain.invoke({\"question\": \"Какие есть значения reason?\"})"
      ],
      "metadata": {
        "id": "hc1eIesRuNH9"
      },
      "execution_count": 14,
      "outputs": []
    },
    {
      "cell_type": "code",
      "source": [
        "print(response)"
      ],
      "metadata": {
        "colab": {
          "base_uri": "https://localhost:8080/"
        },
        "id": "KIlWC9DfuNKN",
        "outputId": "347e702d-a05c-4e5e-a9f2-a2b61bed603b"
      },
      "execution_count": 15,
      "outputs": [
        {
          "output_type": "stream",
          "name": "stdout",
          "text": [
            "```sql\n",
            "SELECT DISTINCT reason FROM data_1;\n",
            "```\n"
          ]
        }
      ]
    },
    {
      "cell_type": "code",
      "source": [
        "import re\n",
        "\n",
        "def extract_sql_query(response):\n",
        "    sql_query_match = re.search(r'```sql\\n(.*?)\\n```|```sql\\n(.*?)\\n|(\\bSELECT\\b.*?;)', response, re.DOTALL | re.IGNORECASE)\n",
        "    if sql_query_match:\n",
        "        sql_query = sql_query_match.group(1) or sql_query_match.group(2) or sql_query_match.group(3)\n",
        "        return sql_query.strip()\n",
        "    return None"
      ],
      "metadata": {
        "id": "bWP6pYM_vWGj"
      },
      "execution_count": 17,
      "outputs": []
    },
    {
      "cell_type": "code",
      "source": [
        "from langchain_community.tools.sql_database.tool import QuerySQLDataBaseTool\n",
        "from langchain.globals import set_verbose, set_debug\n",
        "set_verbose(True)\n",
        "set_debug(False)\n",
        "execute_query = QuerySQLDataBaseTool(db=db)\n",
        "write_query = create_sql_query_chain(giga, db)\n",
        "\n",
        "chain = write_query | extract_sql_query | execute_query\n",
        "chain.invoke({\"question\": \"Какие есть значения reason?\"})"
      ],
      "metadata": {
        "colab": {
          "base_uri": "https://localhost:8080/",
          "height": 35
        },
        "id": "r9hIzP1ouNM0",
        "outputId": "6969bd8b-4ff3-4f20-f3c6-0d9e6d728167"
      },
      "execution_count": 18,
      "outputs": [
        {
          "output_type": "execute_result",
          "data": {
            "text/plain": [
              "\"[('Кредитная история',), ('Лимит',), ('Модель',), ('Одобрено',), ('Благонадежность',)]\""
            ],
            "application/vnd.google.colaboratory.intrinsic+json": {
              "type": "string"
            }
          },
          "metadata": {},
          "execution_count": 18
        }
      ]
    },
    {
      "cell_type": "code",
      "source": [
        "chain.invoke({\"question\": \"Какое значение ki_payments у клиента Иванов Александр Сергеевич?\"})"
      ],
      "metadata": {
        "colab": {
          "base_uri": "https://localhost:8080/",
          "height": 35
        },
        "id": "Q6C3Qxb5uNPL",
        "outputId": "3b32bc05-b37c-440c-e34e-dd37f0386559"
      },
      "execution_count": 19,
      "outputs": [
        {
          "output_type": "execute_result",
          "data": {
            "text/plain": [
              "'[(5714,)]'"
            ],
            "application/vnd.google.colaboratory.intrinsic+json": {
              "type": "string"
            }
          },
          "metadata": {},
          "execution_count": 19
        }
      ]
    }
  ]
}